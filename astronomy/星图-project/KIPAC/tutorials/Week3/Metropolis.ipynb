{
 "cells": [
  {
   "cell_type": "markdown",
   "metadata": {},
   "source": [
    "# Week 3 Tutorial\n",
    "## The Metropolis Sampler\n",
    "\n",
    "This notebook is for playing with the Metropolis algorithm in the context of fitting a linear model.\n",
    "\n",
    "As usual, there is some code provided below, which you will need to complete in places (or write your own from scratch, alternatively).\n",
    "\n",
    "### Reminder!\n",
    "\n",
    "After pulling down the tutorial notebook, immediately make a copy. Then do not modify the original. Do your work in the copy. This will prevent the possibility of git conflicts should the version-controlled file change at any point in the future. (The same exhortation applies to homeworks.)"
   ]
  },
  {
   "cell_type": "markdown",
   "metadata": {},
   "source": [
    "### Preliminaries"
   ]
  },
  {
   "cell_type": "markdown",
   "metadata": {},
   "source": [
    "Import things"
   ]
  },
  {
   "cell_type": "code",
   "execution_count": null,
   "metadata": {
    "collapsed": true
   },
   "outputs": [],
   "source": [
    "import numpy as np\n",
    "import statsmodels.api as sm\n",
    "import matplotlib\n",
    "matplotlib.use('TkAgg')\n",
    "import matplotlib.pyplot as plt\n",
    "import scipy.stats\n",
    "%matplotlib inline\n",
    "\n",
    "class SolutionMissingError(Exception):\n",
    "    def __init__(self):\n",
    "        Exception.__init__(self,\"You need to complete the solution for this code to work!\")\n",
    "def REPLACE_WITH_YOUR_SOLUTION():\n",
    "    raise SolutionMissingError\n",
    "REMOVE_THIS_LINE = REPLACE_WITH_YOUR_SOLUTION"
   ]
  },
  {
   "cell_type": "markdown",
   "metadata": {},
   "source": [
    "First, we'll generate a mock data set to fit. You can choose different values below, but otherwise let's use some easily recognizable numbers.\n",
    "\n",
    "* $x \\sim \\mathrm{Normal}(e, 1)$\n",
    "* $y \\sim \\mathrm{Normal}(\\pi+\\sqrt{2} ~ x, 1)$\n",
    "\n",
    "For simplicity, we'll take the $x$ values to be measured precisely, and the $y$ values to have (known) unit error bars, accounting for the scatter in $y$ above. Hence the model parameters to be fit are just $a$ and $b$, the intercept and slope of the linear model."
   ]
  },
  {
   "cell_type": "code",
   "execution_count": null,
   "metadata": {
    "collapsed": true
   },
   "outputs": [],
   "source": [
    "true_a = np.pi\n",
    "true_b = np.sqrt(2.0)"
   ]
  },
  {
   "cell_type": "code",
   "execution_count": null,
   "metadata": {
    "collapsed": true
   },
   "outputs": [],
   "source": [
    "try:\n",
    "    exec(open('Solution/mock_data.py').read())\n",
    "except IOError:\n",
    "    ndata = 50\n",
    "    x = np.random.normal(np.exp(1.0), 1.0, ndata)\n",
    "    y = REPLACE_WITH_YOUR_SOLUTION()\n",
    "\n",
    "plt.rcParams['figure.figsize'] = (7.0, 5.0)\n",
    "plt.plot(x, y, 'o');"
   ]
  },
  {
   "cell_type": "markdown",
   "metadata": {},
   "source": [
    "It will be convenient to compare what we get from MCMC with the exact solution, which is easy to calculate in this case (assuming uniform priors). Here is a class that packages that up. Note that if you made changed the model that the data are drawn from, the plot ranges below may need to be updated to reflect that."
   ]
  },
  {
   "cell_type": "code",
   "execution_count": null,
   "metadata": {
    "collapsed": true
   },
   "outputs": [],
   "source": [
    "class ExactPosterior:\n",
    "    def __init__(self, x, y, a0, b0):\n",
    "        # Here's the linear algebra done manually\n",
    "        ##X = np.matrix(np.vstack([np.ones(len(x)), x]).T)\n",
    "        ##Y = np.matrix(y).T\n",
    "        ##self.invcov = X.T * X\n",
    "        ##self.covariance = np.linalg.inv(self.invcov)\n",
    "        ##self.mean = self.covariance * X.T * Y\n",
    "        # It's more easily generalizable to use a library instead\n",
    "        model = sm.OLS(y, sm.add_constant(x))\n",
    "        ols = model.fit()\n",
    "        self.mean = np.matrix(ols.params).T\n",
    "        self.covariance = ols.normalized_cov_params\n",
    "        self.invcov = np.linalg.inv(self.covariance)\n",
    "        self.a_array = np.arange(0.0, 6.0, 0.02)\n",
    "        self.b_array = np.arange(0.0, 3.25, 0.02)\n",
    "        self.P_of_a = np.array([self.marg_a(a) for a in self.a_array])\n",
    "        self.P_of_b = np.array([self.marg_b(b) for b in self.b_array])\n",
    "        self.P_of_ab = np.array([[self.lnpost(a,b) for a in self.a_array] for b in self.b_array])\n",
    "        self.P_of_ab = np.exp(self.P_of_ab)\n",
    "        self.renorm = 1.0/np.sum(self.P_of_ab)\n",
    "        self.P_of_ab = self.P_of_ab * self.renorm\n",
    "        self.levels = scipy.stats.chi2.cdf(np.arange(4,1,-1)**2, 1) # confidence levels corresponding to contours below\n",
    "        self.contourLevels = self.renorm*np.exp(self.lnpost(a0,b0)-0.5*scipy.stats.chi2.ppf(self.levels, 2))\n",
    "    def lnpost(self, a, b): # the 2D posterior\n",
    "        z = self.mean - np.matrix([[a],[b]])\n",
    "        return -0.5 * (z.T * self.invcov * z)[0,0]\n",
    "    def marg_a(self, a): # marginal posterior of a\n",
    "        return scipy.stats.norm.pdf(a, self.mean[0,0], np.sqrt(self.covariance[0,0]))\n",
    "    def marg_b(self, b): # marginal posterior of b\n",
    "        return scipy.stats.norm.pdf(b, self.mean[1,0], np.sqrt(self.covariance[1,1]))\n",
    "exact = ExactPosterior(x, y, true_a, true_b)"
   ]
  },
  {
   "cell_type": "markdown",
   "metadata": {},
   "source": [
    "Demo some plots of the exact posterior distribution"
   ]
  },
  {
   "cell_type": "code",
   "execution_count": null,
   "metadata": {
    "collapsed": true
   },
   "outputs": [],
   "source": [
    "plt.rcParams['figure.figsize'] = (7.0, 5.0)\n",
    "plt.plot(exact.a_array, exact.P_of_a); plt.xlabel('a');"
   ]
  },
  {
   "cell_type": "code",
   "execution_count": null,
   "metadata": {
    "collapsed": true
   },
   "outputs": [],
   "source": [
    "plt.rcParams['figure.figsize'] = (7.0, 5.0)\n",
    "plt.plot(exact.b_array, exact.P_of_b); plt.xlabel('b');"
   ]
  },
  {
   "cell_type": "code",
   "execution_count": null,
   "metadata": {
    "collapsed": true
   },
   "outputs": [],
   "source": [
    "plt.rcParams['figure.figsize'] = (7.0, 5.0)\n",
    "plt.contour(exact.a_array, exact.b_array, exact.P_of_ab, colors='blue', levels=exact.contourLevels);\n",
    "plt.plot(true_a, true_b, 'o', color='red'); plt.xlabel('a'); plt.ylabel('b');"
   ]
  },
  {
   "cell_type": "markdown",
   "metadata": {},
   "source": [
    "### Coding the model"
   ]
  },
  {
   "cell_type": "markdown",
   "metadata": {},
   "source": [
    "Use uniform priors, for ease of comparison to the exact solution."
   ]
  },
  {
   "cell_type": "code",
   "execution_count": null,
   "metadata": {
    "collapsed": true
   },
   "outputs": [],
   "source": [
    "def lnPrior(params):\n",
    "    return 0.0"
   ]
  },
  {
   "cell_type": "markdown",
   "metadata": {},
   "source": [
    "Define a likelihood function."
   ]
  },
  {
   "cell_type": "code",
   "execution_count": null,
   "metadata": {
    "collapsed": true
   },
   "outputs": [],
   "source": [
    "try:\n",
    "    exec(open('Solution/lnLike.py').read())\n",
    "except IOError:\n",
    "    REMOVE_THIS_LINE()\n",
    "    def lnLike(params, x, y):\n",
    "        a = params[0]\n",
    "        b = params[1]\n",
    "        REPLACE_WITH_YOUR_SOLUTION()"
   ]
  },
  {
   "cell_type": "markdown",
   "metadata": {},
   "source": [
    "Package up a log-posterior function."
   ]
  },
  {
   "cell_type": "code",
   "execution_count": null,
   "metadata": {
    "collapsed": true
   },
   "outputs": [],
   "source": [
    "try:\n",
    "    exec(open('Solution/lnPost.py').read())\n",
    "except IOError:\n",
    "    REMOVE_THIS_LINE()\n",
    "    def lnPost(params, x, y):\n",
    "        REPLACE_WITH_YOUR_SOLUTION()"
   ]
  },
  {
   "cell_type": "markdown",
   "metadata": {},
   "source": [
    "### Coding the sampler\n",
    "Improve as you see fit!"
   ]
  },
  {
   "cell_type": "markdown",
   "metadata": {},
   "source": [
    "Let's use a simple Gaussian proposal distribution, for lack of any better ideas. The width of the distribution might as well be an option."
   ]
  },
  {
   "cell_type": "code",
   "execution_count": null,
   "metadata": {
    "collapsed": true
   },
   "outputs": [],
   "source": [
    "def propose(params, width):\n",
    "    return params + width * np.random.randn(params.shape[0])"
   ]
  },
  {
   "cell_type": "markdown",
   "metadata": {},
   "source": [
    "Next, we need a function to propose a step and decide whether to accept or reject it."
   ]
  },
  {
   "cell_type": "code",
   "execution_count": null,
   "metadata": {
    "collapsed": true
   },
   "outputs": [],
   "source": [
    "try:\n",
    "    exec(open('Solution/step.py').read())\n",
    "except IOError:\n",
    "    REMOVE_THIS_LINE()\n",
    "    def step(current_params, current_lnP, width=1.0):\n",
    "        trial_params = REPLACE_WITH_YOUR_SOLUTION()\n",
    "        trial_lnP = REPLACE_WITH_YOUR_SOLUTION()\n",
    "        if REPLACE_WITH_YOUR_SOLUTION():\n",
    "            return (trial_params, trial_lnP)\n",
    "        else:\n",
    "            return (current_params, current_lnP)"
   ]
  },
  {
   "cell_type": "markdown",
   "metadata": {},
   "source": [
    "### And away we go"
   ]
  },
  {
   "cell_type": "markdown",
   "metadata": {},
   "source": [
    "Here we set a random initial value on [-5,5] for each parameter, then run the sampler.\n",
    "\n",
    "Start with `Nsamples` set to something small (like 100) to verify that the code works as expected. You'll probably need to use a larger value to get convergence, though."
   ]
  },
  {
   "cell_type": "code",
   "execution_count": null,
   "metadata": {
    "collapsed": true
   },
   "outputs": [],
   "source": [
    "# choose an intial state and evaluate the posterior there\n",
    "params = -5.0 + np.random.rand(2) * 10.0\n",
    "lnP = lnPost(params, x, y)\n",
    "\n",
    "# set up an array to hold the chain\n",
    "try:\n",
    "    exec(open('Solution/Nsamples.py').read())\n",
    "except IOError:\n",
    "    Nsamples = REPLACE_WITH_YOUR_SOLUTION()\n",
    "samples = np.zeros((Nsamples, 2))\n",
    "\n",
    "# run the sampler\n",
    "for i in range(Nsamples):\n",
    "    params, lnP = step(params, lnP)\n",
    "    samples[i,:] = params"
   ]
  },
  {
   "cell_type": "markdown",
   "metadata": {},
   "source": [
    "Visualize the chain in two dimensions"
   ]
  },
  {
   "cell_type": "code",
   "execution_count": null,
   "metadata": {
    "collapsed": true
   },
   "outputs": [],
   "source": [
    "plt.rcParams['figure.figsize'] = (7.0, 7.0)\n",
    "plt.plot(samples[:,0], samples[:,1]);\n",
    "plt.plot(samples[0,0], samples[0,1], 'ro');\n",
    "plt.xlabel('a'); plt.ylabel('b');"
   ]
  },
  {
   "cell_type": "markdown",
   "metadata": {},
   "source": [
    "Look at the *traces* of each parameter (vs time)."
   ]
  },
  {
   "cell_type": "code",
   "execution_count": null,
   "metadata": {
    "collapsed": true
   },
   "outputs": [],
   "source": [
    "plt.rcParams['figure.figsize'] = (12.0, 3.0)\n",
    "plt.plot(samples[:,0], 'o', ms=1.0); plt.ylabel('a');"
   ]
  },
  {
   "cell_type": "code",
   "execution_count": null,
   "metadata": {
    "collapsed": true
   },
   "outputs": [],
   "source": [
    "plt.rcParams['figure.figsize'] = (12.0, 3.0)\n",
    "plt.plot(samples[:,1], 'o', ms=1.0); plt.ylabel('b');"
   ]
  },
  {
   "cell_type": "markdown",
   "metadata": {},
   "source": [
    "On the basis of these diagnostics, we should identify a burn-in period to throw away hereafter. We could also *thin* the remaining chain to reduce the number of highly correlated and therefore redundant points.\n",
    "\n",
    "Here I've removed the first half of the chain, but you should change this to whatever makes sense."
   ]
  },
  {
   "cell_type": "code",
   "execution_count": null,
   "metadata": {
    "collapsed": true
   },
   "outputs": [],
   "source": [
    "samples = samples[np.arange(int(0.5*Nsamples),Nsamples),:]"
   ]
  },
  {
   "cell_type": "markdown",
   "metadata": {},
   "source": [
    "Repeat earlier plots, \"zoomed in\" on the remaining samples"
   ]
  },
  {
   "cell_type": "code",
   "execution_count": null,
   "metadata": {
    "collapsed": true
   },
   "outputs": [],
   "source": [
    "plt.rcParams['figure.figsize'] = (7.0, 7.0)\n",
    "plt.plot(samples[:,0], samples[:,1]);\n",
    "plt.xlabel('a'); plt.ylabel('b');"
   ]
  },
  {
   "cell_type": "code",
   "execution_count": null,
   "metadata": {
    "collapsed": true
   },
   "outputs": [],
   "source": [
    "plt.rcParams['figure.figsize'] = (12.0, 3.0)\n",
    "plt.plot(samples[:,0], 'o', ms=1.0); plt.ylabel('a');"
   ]
  },
  {
   "cell_type": "code",
   "execution_count": null,
   "metadata": {
    "collapsed": true
   },
   "outputs": [],
   "source": [
    "plt.rcParams['figure.figsize'] = (12.0, 3.0)\n",
    "plt.plot(samples[:,1], 'o', ms=1.0); plt.ylabel('b');"
   ]
  },
  {
   "cell_type": "markdown",
   "metadata": {},
   "source": [
    "Compare the marginal and joint posterior distributions to the exact solution."
   ]
  },
  {
   "cell_type": "code",
   "execution_count": null,
   "metadata": {
    "collapsed": true
   },
   "outputs": [],
   "source": [
    "plt.rcParams['figure.figsize'] = (5.0, 5.0)\n",
    "plt.hist(samples[:,0], 20, normed=True, color='cyan');\n",
    "plt.plot(exact.a_array, exact.P_of_a, color='red');\n",
    "plt.xlabel('a');"
   ]
  },
  {
   "cell_type": "code",
   "execution_count": null,
   "metadata": {
    "collapsed": true
   },
   "outputs": [],
   "source": [
    "plt.rcParams['figure.figsize'] = (5.0, 5.0)\n",
    "plt.hist(samples[:,1], 20, normed=True, color='cyan');\n",
    "plt.plot(exact.b_array, exact.P_of_b, color='red');\n",
    "plt.xlabel('b');"
   ]
  },
  {
   "cell_type": "code",
   "execution_count": null,
   "metadata": {
    "collapsed": true
   },
   "outputs": [],
   "source": [
    "plt.rcParams['figure.figsize'] = (5.0, 5.0)\n",
    "plt.plot(samples[:,0], samples[:,1], 'o', ms=1.0);\n",
    "plt.contour(exact.a_array, exact.b_array, exact.P_of_ab, colors='red', levels=exact.contourLevels);\n",
    "plt.xlabel('a'); plt.ylabel('b');"
   ]
  },
  {
   "cell_type": "markdown",
   "metadata": {},
   "source": [
    "### Play\n",
    "\n",
    "If you didn't make any changes to the above suggested code, chances are what you've got as a result is junk (clearly not in agreement with the correct answer, which we happen to know in this case). This is not an accident. You should be able to improve things by playing with the various knobs and levers at our disposal, including\n",
    "1. the proposal distribution width\n",
    "1. the chain length\n",
    "1. the initial state\n",
    "\n",
    "Try modifying each of these to see what happens. In each case, there are tradeoffs involved."
   ]
  },
  {
   "cell_type": "markdown",
   "metadata": {},
   "source": [
    "In practice, we don't usually know where the best fit will be, and can't wait around while the posterior is evaluated an arbitrarily large number of times. There are plenty of strategies for sampling more efficiently, which we'll come back to later in the course."
   ]
  },
  {
   "cell_type": "code",
   "execution_count": null,
   "metadata": {
    "collapsed": true
   },
   "outputs": [],
   "source": []
  },
  {
   "cell_type": "markdown",
   "metadata": {},
   "source": [
    "### Diagnostics\n",
    "\n",
    "Since we don't normally have the correct solution to compare to, we need another way to reassure ourselves that the MCMC sampler is getting us the right answer. To that end, run multiple chains with well separated starting positions, and use the diagnostic methods covered in class to assess their convergence."
   ]
  },
  {
   "cell_type": "code",
   "execution_count": null,
   "metadata": {
    "collapsed": true
   },
   "outputs": [],
   "source": []
  }
 ],
 "metadata": {
  "anaconda-cloud": {},
  "kernelspec": {
   "display_name": "Python [default]",
   "language": "python",
   "name": "python2"
  },
  "language_info": {
   "codemirror_mode": {
    "name": "ipython",
    "version": 2
   },
   "file_extension": ".py",
   "mimetype": "text/x-python",
   "name": "python",
   "nbconvert_exporter": "python",
   "pygments_lexer": "ipython2",
   "version": "2.7.6"
  }
 },
 "nbformat": 4,
 "nbformat_minor": 1
}
