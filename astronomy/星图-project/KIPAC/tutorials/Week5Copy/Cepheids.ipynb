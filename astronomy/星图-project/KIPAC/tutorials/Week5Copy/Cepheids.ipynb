{
 "cells": [
  {
   "cell_type": "markdown",
   "metadata": {},
   "source": [
    "### Reminder!\n",
    "\n",
    "After pulling down the tutorial notebook, immediately make a copy. Then do not modify the original. Do your work in the copy. This will prevent the possibility of git conflicts should the version-controlled file change at any point in the future. (The same exhortation applies to homeworks.)"
   ]
  },
  {
   "cell_type": "markdown",
   "metadata": {},
   "source": [
    "# Week 5 Tutorial\n",
    "\n",
    "## Hierarchical Modeling of the Cepheid Period-Luminosity Relation\n",
    "\n",
    "Cepheids are stars whose brightness oscillates with a stable period, the logarithm of which appears to be strongly correlated with their mean absolute magnitude. If this period-luminosity relation is universal, this would give us a way to measure the distance to galaxies containing Cepheid stars.\n",
    "\n",
    "In this problem we'll use the data from Riess et al. (2011; R11) to infer, hierarchically, the hyperparameters that govern the cepheid period-luminosity relation in a sample of nearby galaxies, and answer the following question: \n",
    "\n",
    "* How universal is the cepheid period-luminosity relation, once the distances to the galaxies is taken into account?\n",
    "\n",
    "A universal relation would lead to each galaxy showing the same slope and intercept in their cepheids' P-L relation. However, it could be that cepheid hosts are only *approximately* universal with regard to their cepheids, with the parameters of the period-luminosity relation following some broad, peaked distribution. By modeling the R11 dataset under this assumption of approximate universality we can infer the width of this distribution, and see how universal the P-L relation is."
   ]
  },
  {
   "cell_type": "markdown",
   "metadata": {},
   "source": [
    "### Preliminaries"
   ]
  },
  {
   "cell_type": "markdown",
   "metadata": {},
   "source": [
    "Imports:"
   ]
  },
  {
   "cell_type": "code",
   "execution_count": 1,
   "metadata": {},
   "outputs": [],
   "source": [
    "import numpy as np\n",
    "import statsmodels.api as sm\n",
    "import matplotlib.pyplot as plt\n",
    "import pandas as pd\n",
    "import scipy.stats as st\n",
    "import corner\n",
    "%matplotlib inline\n",
    "\n",
    "class SolutionMissingError(Exception):\n",
    "    def __init__(self):\n",
    "        Exception.__init__(self,\"You need to complete the solution for this code to work!\")\n",
    "\n",
    "\n",
    "def REPLACE_WITH_YOUR_SOLUTION():\n",
    "    data = []\n",
    "    plt.plot(data)\n",
    "    plt.show()\n",
    "#    raise SolutionMissingError"
   ]
  },
  {
   "cell_type": "markdown",
   "metadata": {},
   "source": [
    "Read in the data (you should have a look at the files themselves to see what they contain) and plot it."
   ]
  },
  {
   "cell_type": "code",
   "execution_count": 2,
   "metadata": {},
   "outputs": [],
   "source": [
    "import os\n",
    "try:\n",
    "    exec(open('Solution/where_the_data_at.py').read())\n",
    "except IOError:\n",
    "    data_path = os.path.abspath('../../data') + '/' # relative or absolute path to the folder where the R11 data live\n",
    "                                             # e.g., \"../data/\"\n",
    "\n",
    "cepheids = pd.DataFrame(np.loadtxt(data_path + 'R11ceph.dat'), columns=['id','gal','m','merr','P','logO_H','bias'])\n",
    "galaxies = pd.DataFrame(np.loadtxt(data_path + 'R11redsh.dat'), columns=['gal','z'])"
   ]
  },
  {
   "cell_type": "code",
   "execution_count": 3,
   "metadata": {
    "scrolled": true
   },
   "outputs": [
    {
     "data": {
      "text/html": [
       "<div>\n",
       "<style scoped>\n",
       "    .dataframe tbody tr th:only-of-type {\n",
       "        vertical-align: middle;\n",
       "    }\n",
       "\n",
       "    .dataframe tbody tr th {\n",
       "        vertical-align: top;\n",
       "    }\n",
       "\n",
       "    .dataframe thead th {\n",
       "        text-align: right;\n",
       "    }\n",
       "</style>\n",
       "<table border=\"1\" class=\"dataframe\">\n",
       "  <thead>\n",
       "    <tr style=\"text-align: right;\">\n",
       "      <th></th>\n",
       "      <th>id</th>\n",
       "      <th>gal</th>\n",
       "      <th>m</th>\n",
       "      <th>merr</th>\n",
       "      <th>P</th>\n",
       "      <th>logO_H</th>\n",
       "      <th>bias</th>\n",
       "    </tr>\n",
       "  </thead>\n",
       "  <tbody>\n",
       "    <tr>\n",
       "      <th>0</th>\n",
       "      <td>27185.0</td>\n",
       "      <td>4536.0</td>\n",
       "      <td>24.5123</td>\n",
       "      <td>0.31</td>\n",
       "      <td>13.00</td>\n",
       "      <td>-3.46</td>\n",
       "      <td>0.13</td>\n",
       "    </tr>\n",
       "    <tr>\n",
       "      <th>1</th>\n",
       "      <td>42353.0</td>\n",
       "      <td>4536.0</td>\n",
       "      <td>25.9907</td>\n",
       "      <td>0.74</td>\n",
       "      <td>13.07</td>\n",
       "      <td>-3.03</td>\n",
       "      <td>0.37</td>\n",
       "    </tr>\n",
       "    <tr>\n",
       "      <th>2</th>\n",
       "      <td>50718.0</td>\n",
       "      <td>4536.0</td>\n",
       "      <td>24.1492</td>\n",
       "      <td>0.42</td>\n",
       "      <td>13.73</td>\n",
       "      <td>-3.36</td>\n",
       "      <td>0.28</td>\n",
       "    </tr>\n",
       "    <tr>\n",
       "      <th>3</th>\n",
       "      <td>72331.0</td>\n",
       "      <td>4536.0</td>\n",
       "      <td>24.4751</td>\n",
       "      <td>0.44</td>\n",
       "      <td>13.91</td>\n",
       "      <td>-3.19</td>\n",
       "      <td>0.22</td>\n",
       "    </tr>\n",
       "    <tr>\n",
       "      <th>4</th>\n",
       "      <td>65694.0</td>\n",
       "      <td>4536.0</td>\n",
       "      <td>24.8582</td>\n",
       "      <td>0.38</td>\n",
       "      <td>14.38</td>\n",
       "      <td>-3.10</td>\n",
       "      <td>0.39</td>\n",
       "    </tr>\n",
       "  </tbody>\n",
       "</table>\n",
       "</div>"
      ],
      "text/plain": [
       "        id     gal        m  merr      P  logO_H  bias\n",
       "0  27185.0  4536.0  24.5123  0.31  13.00   -3.46  0.13\n",
       "1  42353.0  4536.0  25.9907  0.74  13.07   -3.03  0.37\n",
       "2  50718.0  4536.0  24.1492  0.42  13.73   -3.36  0.28\n",
       "3  72331.0  4536.0  24.4751  0.44  13.91   -3.19  0.22\n",
       "4  65694.0  4536.0  24.8582  0.38  14.38   -3.10  0.39"
      ]
     },
     "execution_count": 3,
     "metadata": {},
     "output_type": "execute_result"
    }
   ],
   "source": [
    "cepheids.head()"
   ]
  },
  {
   "cell_type": "code",
   "execution_count": 4,
   "metadata": {
    "scrolled": true
   },
   "outputs": [
    {
     "data": {
      "text/html": [
       "<div>\n",
       "<style scoped>\n",
       "    .dataframe tbody tr th:only-of-type {\n",
       "        vertical-align: middle;\n",
       "    }\n",
       "\n",
       "    .dataframe tbody tr th {\n",
       "        vertical-align: top;\n",
       "    }\n",
       "\n",
       "    .dataframe thead th {\n",
       "        text-align: right;\n",
       "    }\n",
       "</style>\n",
       "<table border=\"1\" class=\"dataframe\">\n",
       "  <thead>\n",
       "    <tr style=\"text-align: right;\">\n",
       "      <th></th>\n",
       "      <th>gal</th>\n",
       "      <th>z</th>\n",
       "    </tr>\n",
       "  </thead>\n",
       "  <tbody>\n",
       "    <tr>\n",
       "      <th>0</th>\n",
       "      <td>1309.0</td>\n",
       "      <td>0.007125</td>\n",
       "    </tr>\n",
       "    <tr>\n",
       "      <th>1</th>\n",
       "      <td>3021.0</td>\n",
       "      <td>0.005140</td>\n",
       "    </tr>\n",
       "    <tr>\n",
       "      <th>2</th>\n",
       "      <td>3370.0</td>\n",
       "      <td>0.004266</td>\n",
       "    </tr>\n",
       "    <tr>\n",
       "      <th>3</th>\n",
       "      <td>3982.0</td>\n",
       "      <td>0.003699</td>\n",
       "    </tr>\n",
       "    <tr>\n",
       "      <th>4</th>\n",
       "      <td>4038.0</td>\n",
       "      <td>0.005477</td>\n",
       "    </tr>\n",
       "  </tbody>\n",
       "</table>\n",
       "</div>"
      ],
      "text/plain": [
       "      gal         z\n",
       "0  1309.0  0.007125\n",
       "1  3021.0  0.005140\n",
       "2  3370.0  0.004266\n",
       "3  3982.0  0.003699\n",
       "4  4038.0  0.005477"
      ]
     },
     "execution_count": 4,
     "metadata": {},
     "output_type": "execute_result"
    }
   ],
   "source": [
    "galaxies.head()"
   ]
  },
  {
   "cell_type": "markdown",
   "metadata": {},
   "source": [
    "Tack on a column to `cepheids` holding the log-period:"
   ]
  },
  {
   "cell_type": "code",
   "execution_count": 5,
   "metadata": {},
   "outputs": [],
   "source": [
    "try:\n",
    "    exec(open('Solution/calc_logP.py').read())\n",
    "except IOError:\n",
    "    cepheids['logP'] = np.log(cepheids['P'])"
   ]
  },
  {
   "cell_type": "code",
   "execution_count": 6,
   "metadata": {
    "scrolled": true
   },
   "outputs": [
    {
     "data": {
      "text/html": [
       "<div>\n",
       "<style scoped>\n",
       "    .dataframe tbody tr th:only-of-type {\n",
       "        vertical-align: middle;\n",
       "    }\n",
       "\n",
       "    .dataframe tbody tr th {\n",
       "        vertical-align: top;\n",
       "    }\n",
       "\n",
       "    .dataframe thead th {\n",
       "        text-align: right;\n",
       "    }\n",
       "</style>\n",
       "<table border=\"1\" class=\"dataframe\">\n",
       "  <thead>\n",
       "    <tr style=\"text-align: right;\">\n",
       "      <th></th>\n",
       "      <th>id</th>\n",
       "      <th>gal</th>\n",
       "      <th>m</th>\n",
       "      <th>merr</th>\n",
       "      <th>P</th>\n",
       "      <th>logO_H</th>\n",
       "      <th>bias</th>\n",
       "      <th>logP</th>\n",
       "    </tr>\n",
       "  </thead>\n",
       "  <tbody>\n",
       "    <tr>\n",
       "      <th>0</th>\n",
       "      <td>27185.0</td>\n",
       "      <td>4536.0</td>\n",
       "      <td>24.5123</td>\n",
       "      <td>0.31</td>\n",
       "      <td>13.00</td>\n",
       "      <td>-3.46</td>\n",
       "      <td>0.13</td>\n",
       "      <td>2.564949</td>\n",
       "    </tr>\n",
       "    <tr>\n",
       "      <th>1</th>\n",
       "      <td>42353.0</td>\n",
       "      <td>4536.0</td>\n",
       "      <td>25.9907</td>\n",
       "      <td>0.74</td>\n",
       "      <td>13.07</td>\n",
       "      <td>-3.03</td>\n",
       "      <td>0.37</td>\n",
       "      <td>2.570320</td>\n",
       "    </tr>\n",
       "    <tr>\n",
       "      <th>2</th>\n",
       "      <td>50718.0</td>\n",
       "      <td>4536.0</td>\n",
       "      <td>24.1492</td>\n",
       "      <td>0.42</td>\n",
       "      <td>13.73</td>\n",
       "      <td>-3.36</td>\n",
       "      <td>0.28</td>\n",
       "      <td>2.619583</td>\n",
       "    </tr>\n",
       "    <tr>\n",
       "      <th>3</th>\n",
       "      <td>72331.0</td>\n",
       "      <td>4536.0</td>\n",
       "      <td>24.4751</td>\n",
       "      <td>0.44</td>\n",
       "      <td>13.91</td>\n",
       "      <td>-3.19</td>\n",
       "      <td>0.22</td>\n",
       "      <td>2.632608</td>\n",
       "    </tr>\n",
       "    <tr>\n",
       "      <th>4</th>\n",
       "      <td>65694.0</td>\n",
       "      <td>4536.0</td>\n",
       "      <td>24.8582</td>\n",
       "      <td>0.38</td>\n",
       "      <td>14.38</td>\n",
       "      <td>-3.10</td>\n",
       "      <td>0.39</td>\n",
       "      <td>2.665838</td>\n",
       "    </tr>\n",
       "  </tbody>\n",
       "</table>\n",
       "</div>"
      ],
      "text/plain": [
       "        id     gal        m  merr      P  logO_H  bias      logP\n",
       "0  27185.0  4536.0  24.5123  0.31  13.00   -3.46  0.13  2.564949\n",
       "1  42353.0  4536.0  25.9907  0.74  13.07   -3.03  0.37  2.570320\n",
       "2  50718.0  4536.0  24.1492  0.42  13.73   -3.36  0.28  2.619583\n",
       "3  72331.0  4536.0  24.4751  0.44  13.91   -3.19  0.22  2.632608\n",
       "4  65694.0  4536.0  24.8582  0.38  14.38   -3.10  0.39  2.665838"
      ]
     },
     "execution_count": 6,
     "metadata": {},
     "output_type": "execute_result"
    }
   ],
   "source": [
    "cepheids.head()"
   ]
  },
  {
   "cell_type": "markdown",
   "metadata": {},
   "source": [
    "It'll be convenient to have a list of the NGC identifiers. For sanity, verify that these are identical between the two data files above."
   ]
  },
  {
   "cell_type": "code",
   "execution_count": 7,
   "metadata": {
    "scrolled": true
   },
   "outputs": [
    {
     "data": {
      "text/plain": [
       "True"
      ]
     },
     "execution_count": 7,
     "metadata": {},
     "output_type": "execute_result"
    }
   ],
   "source": [
    "ngcs = np.sort(galaxies['gal'])\n",
    "np.all(ngcs == np.unique(cepheids['gal']))"
   ]
  },
  {
   "cell_type": "markdown",
   "metadata": {},
   "source": [
    "Plot the P-L relation without adjusting magnitudes for the distance to each galaxy"
   ]
  },
  {
   "cell_type": "code",
   "execution_count": 8,
   "metadata": {
    "scrolled": true
   },
   "outputs": [
    {
     "data": {
      "image/png": "[encoded data removed]",
      "text/plain": [
       "<Figure size 1080x576 with 1 Axes>"
      ]
     },
     "metadata": {
      "needs_background": "light"
     },
     "output_type": "display_data"
    }
   ],
   "source": [
    "gal_colors = ['red', 'orange', 'yellow', 'green', 'cyan', 'blue', 'violet', 'magenta', 'gray']\n",
    "plt.rcParams['figure.figsize'] = (15.0, 8.0)\n",
    "plt.rc('xtick', labelsize=16)\n",
    "plt.rc('ytick', labelsize=16)\n",
    "plt.xlim([0.3, 2.5])\n",
    "plt.ylim([30.0, 17.0]) # magnitudes go backwards!\n",
    "for ngc,color in zip(ngcs, gal_colors):\n",
    "    this = cepheids[cepheids.gal == ngc]\n",
    "    plt.errorbar(this.logP, this.m, yerr=this.merr, fmt='.', ms=7, lw=1, color=color, label='NGC'+str(int(ngc)))\n",
    "plt.xlabel('$\\\\log_{10} P / {\\\\rm days}$', fontsize=20)\n",
    "plt.ylabel('${\\\\rm magnitude (AB)}$', fontsize=20)\n",
    "plt.title('Cepheid Period-Luminosity (Riess et al 2011)', fontsize=20)\n",
    "plt.legend(loc='upper left');"
   ]
  },
  {
   "cell_type": "markdown",
   "metadata": {},
   "source": [
    "Apparent magnitude $m$ is related to absolute magnitude $M$ via the luminosity distance $D_L$ in Mpc via\n",
    "\n",
    "$m = M + 5 \\log_{10}{D_L} + 25$\n",
    "\n",
    "The host galaxies in the R11 sample are all very nearby (check the maximum redshift read in above), so let's assume that distance is proportional to redshift $z$ via Hubble's law:\n",
    "\n",
    "$D_L = \\frac{cz}{H_0}$ where $c = 3\\times10^5 {\\rm ~km~s}^{-1}$ and $H_0 = 70 {\\rm ~km~s}^{-1} {\\rm Mpc}^{-1}$\n"
   ]
  },
  {
   "cell_type": "markdown",
   "metadata": {},
   "source": [
    "If we also assume the redshifts to each galaxy are known perfectly, we can convert apparent to absolute magnitude for every Cepheid without fuss."
   ]
  },
  {
   "cell_type": "code",
   "execution_count": 9,
   "metadata": {},
   "outputs": [],
   "source": [
    "def calc_DL(galaxies):\n",
    "    return galaxies['z'] * 3 * (10**5) / 70\n",
    "\n",
    "def calc_M(galaxies, cepheids, ngc):\n",
    "    j = (cepheids.gal == ngc)\n",
    "    DL = galaxies.loc[(galaxies.gal == ngc), 'DL'].tolist()[0]\n",
    "    return cepheids.loc[j, 'm'] - 5 * np.log10(DL) - 25\n",
    "\n",
    "try:\n",
    "    exec(open('Solution/calc_M.py').read())\n",
    "except IOError:\n",
    "    c = 3.0e5 # km/s\n",
    "    H0 = 70.0 # km/s/Mpc\n",
    "    galaxies['DL'] = calc_DL(galaxies)\n",
    "    cepheids['M'] = np.nan\n",
    "    for ngc in ngcs:\n",
    "        j = (cepheids.gal == ngc)\n",
    "        cepheids.loc[j,'M'] = calc_M(galaxies, cepheids, ngc)\n"
   ]
  },
  {
   "cell_type": "code",
   "execution_count": 10,
   "metadata": {},
   "outputs": [
    {
     "data": {
      "text/html": [
       "<div>\n",
       "<style scoped>\n",
       "    .dataframe tbody tr th:only-of-type {\n",
       "        vertical-align: middle;\n",
       "    }\n",
       "\n",
       "    .dataframe tbody tr th {\n",
       "        vertical-align: top;\n",
       "    }\n",
       "\n",
       "    .dataframe thead th {\n",
       "        text-align: right;\n",
       "    }\n",
       "</style>\n",
       "<table border=\"1\" class=\"dataframe\">\n",
       "  <thead>\n",
       "    <tr style=\"text-align: right;\">\n",
       "      <th></th>\n",
       "      <th>gal</th>\n",
       "      <th>z</th>\n",
       "      <th>DL</th>\n",
       "    </tr>\n",
       "  </thead>\n",
       "  <tbody>\n",
       "    <tr>\n",
       "      <th>0</th>\n",
       "      <td>1309.0</td>\n",
       "      <td>0.007125</td>\n",
       "      <td>30.535714</td>\n",
       "    </tr>\n",
       "    <tr>\n",
       "      <th>1</th>\n",
       "      <td>3021.0</td>\n",
       "      <td>0.005140</td>\n",
       "      <td>22.028571</td>\n",
       "    </tr>\n",
       "    <tr>\n",
       "      <th>2</th>\n",
       "      <td>3370.0</td>\n",
       "      <td>0.004266</td>\n",
       "      <td>18.282857</td>\n",
       "    </tr>\n",
       "    <tr>\n",
       "      <th>3</th>\n",
       "      <td>3982.0</td>\n",
       "      <td>0.003699</td>\n",
       "      <td>15.852857</td>\n",
       "    </tr>\n",
       "    <tr>\n",
       "      <th>4</th>\n",
       "      <td>4038.0</td>\n",
       "      <td>0.005477</td>\n",
       "      <td>23.472857</td>\n",
       "    </tr>\n",
       "  </tbody>\n",
       "</table>\n",
       "</div>"
      ],
      "text/plain": [
       "      gal         z         DL\n",
       "0  1309.0  0.007125  30.535714\n",
       "1  3021.0  0.005140  22.028571\n",
       "2  3370.0  0.004266  18.282857\n",
       "3  3982.0  0.003699  15.852857\n",
       "4  4038.0  0.005477  23.472857"
      ]
     },
     "execution_count": 10,
     "metadata": {},
     "output_type": "execute_result"
    }
   ],
   "source": [
    "galaxies.head()"
   ]
  },
  {
   "cell_type": "code",
   "execution_count": 11,
   "metadata": {
    "scrolled": true
   },
   "outputs": [
    {
     "data": {
      "text/html": [
       "<div>\n",
       "<style scoped>\n",
       "    .dataframe tbody tr th:only-of-type {\n",
       "        vertical-align: middle;\n",
       "    }\n",
       "\n",
       "    .dataframe tbody tr th {\n",
       "        vertical-align: top;\n",
       "    }\n",
       "\n",
       "    .dataframe thead th {\n",
       "        text-align: right;\n",
       "    }\n",
       "</style>\n",
       "<table border=\"1\" class=\"dataframe\">\n",
       "  <thead>\n",
       "    <tr style=\"text-align: right;\">\n",
       "      <th></th>\n",
       "      <th>id</th>\n",
       "      <th>gal</th>\n",
       "      <th>m</th>\n",
       "      <th>merr</th>\n",
       "      <th>P</th>\n",
       "      <th>logO_H</th>\n",
       "      <th>bias</th>\n",
       "      <th>logP</th>\n",
       "      <th>M</th>\n",
       "    </tr>\n",
       "  </thead>\n",
       "  <tbody>\n",
       "    <tr>\n",
       "      <th>0</th>\n",
       "      <td>27185.0</td>\n",
       "      <td>4536.0</td>\n",
       "      <td>24.5123</td>\n",
       "      <td>0.31</td>\n",
       "      <td>13.00</td>\n",
       "      <td>-3.46</td>\n",
       "      <td>0.13</td>\n",
       "      <td>2.564949</td>\n",
       "      <td>-7.549763</td>\n",
       "    </tr>\n",
       "    <tr>\n",
       "      <th>1</th>\n",
       "      <td>42353.0</td>\n",
       "      <td>4536.0</td>\n",
       "      <td>25.9907</td>\n",
       "      <td>0.74</td>\n",
       "      <td>13.07</td>\n",
       "      <td>-3.03</td>\n",
       "      <td>0.37</td>\n",
       "      <td>2.570320</td>\n",
       "      <td>-6.071363</td>\n",
       "    </tr>\n",
       "    <tr>\n",
       "      <th>2</th>\n",
       "      <td>50718.0</td>\n",
       "      <td>4536.0</td>\n",
       "      <td>24.1492</td>\n",
       "      <td>0.42</td>\n",
       "      <td>13.73</td>\n",
       "      <td>-3.36</td>\n",
       "      <td>0.28</td>\n",
       "      <td>2.619583</td>\n",
       "      <td>-7.912863</td>\n",
       "    </tr>\n",
       "    <tr>\n",
       "      <th>3</th>\n",
       "      <td>72331.0</td>\n",
       "      <td>4536.0</td>\n",
       "      <td>24.4751</td>\n",
       "      <td>0.44</td>\n",
       "      <td>13.91</td>\n",
       "      <td>-3.19</td>\n",
       "      <td>0.22</td>\n",
       "      <td>2.632608</td>\n",
       "      <td>-7.586963</td>\n",
       "    </tr>\n",
       "    <tr>\n",
       "      <th>4</th>\n",
       "      <td>65694.0</td>\n",
       "      <td>4536.0</td>\n",
       "      <td>24.8582</td>\n",
       "      <td>0.38</td>\n",
       "      <td>14.38</td>\n",
       "      <td>-3.10</td>\n",
       "      <td>0.39</td>\n",
       "      <td>2.665838</td>\n",
       "      <td>-7.203863</td>\n",
       "    </tr>\n",
       "  </tbody>\n",
       "</table>\n",
       "</div>"
      ],
      "text/plain": [
       "        id     gal        m  merr      P  logO_H  bias      logP         M\n",
       "0  27185.0  4536.0  24.5123  0.31  13.00   -3.46  0.13  2.564949 -7.549763\n",
       "1  42353.0  4536.0  25.9907  0.74  13.07   -3.03  0.37  2.570320 -6.071363\n",
       "2  50718.0  4536.0  24.1492  0.42  13.73   -3.36  0.28  2.619583 -7.912863\n",
       "3  72331.0  4536.0  24.4751  0.44  13.91   -3.19  0.22  2.632608 -7.586963\n",
       "4  65694.0  4536.0  24.8582  0.38  14.38   -3.10  0.39  2.665838 -7.203863"
      ]
     },
     "execution_count": 11,
     "metadata": {},
     "output_type": "execute_result"
    }
   ],
   "source": [
    "cepheids.head()"
   ]
  },
  {
   "cell_type": "markdown",
   "metadata": {},
   "source": [
    "Plot absolute magnitudes. Note that, since we're assuming a perfectly known, additive translation from $m$ to $M$, the `merr` column of `galaxies` describes the uncertainty either $m$ or $M$."
   ]
  },
  {
   "cell_type": "code",
   "execution_count": 12,
   "metadata": {},
   "outputs": [
    {
     "data": {
      "image/png": "[encoded data removed]",
      "text/plain": [
       "<Figure size 1080x576 with 1 Axes>"
      ]
     },
     "metadata": {
      "needs_background": "light"
     },
     "output_type": "display_data"
    }
   ],
   "source": [
    "plt.xlim([0.3, 2.5])\n",
    "plt.ylim(np.array([30.0, 17.0])-25.0-5.0) # magnitudes go backwards!\n",
    "for ngc,color in zip(ngcs, gal_colors):\n",
    "    this = cepheids[cepheids.gal == ngc]\n",
    "    plt.errorbar(this.logP, this.M, yerr=this.merr, fmt='.', ms=7, lw=1, color=color, label='NGC'+str(int(ngc)))\n",
    "plt.xlabel('$\\\\log_{10} P / {\\\\rm days}$', fontsize=20)\n",
    "plt.ylabel('${\\\\rm Magnitude (AB)}$', fontsize=20)\n",
    "plt.title('Cepheid Period-Luminosity (Riess et al 2011)', fontsize=20)\n",
    "plt.legend(loc='upper left');"
   ]
  },
  {
   "cell_type": "markdown",
   "metadata": {},
   "source": [
    "### Model\n",
    "\n",
    "In addition to the assumptions above, let's incorporate the following into our model:\n",
    "\n",
    "* In cepheids, absolute magnitude is related to the log period $\\log_{10}P$ via a simple, linear relation\n",
    "\n",
    "$M = a_i + b_i \\log_{10}P$ with $i$ indexing the host galaxies.\n",
    "\n",
    "* The period-luminosity relations in the host galaxies might be different from one another, but not _very_ different. \n",
    "\n",
    "We'll assume that the slope and intercept parameters are drawn from two independent Gaussian distributions of unknown width ($\\sigma_b$ and $\\sigma_a$) and mean ($\\bar{b}$ and $\\bar{a}$), such that cepheid behavior is approximately universal, but still potentially sensitive to host galaxy environment.\n",
    "\n",
    "Let's also assume that\n",
    "* there is no intrinsic scatter in the cepheid period-luminosity relation _within_ a given host galaxy.\n",
    "\n",
    "* the measurement errors given by `merr` are Gaussian.\n",
    "\n",
    "* periods are known precisely."
   ]
  },
  {
   "cell_type": "markdown",
   "metadata": {},
   "source": [
    "#### A complete model\n",
    "\n",
    "Draw the PGM for the hierarchical model defined by the assumptions listed above. Make sure you include all the variables:\n",
    "\n",
    "* The observed apparent magnitude of the $j^{th}$ cepheid in the $i^{th}$ galaxy, $m^{\\rm obs}_{ij}$\n",
    "* The \"true\" apparent magnitude of the $j^{th}$ cepheid in the $i^{th}$ galaxy, $m_{ij}$\n",
    "* The true absolute magnitude of the $j^{th}$ cepheid in the $i^{th}$ galaxy, $M_{ij}$\n",
    "* The log period for the $j^{th}$ cepheid in the $i^{th}$ galaxy, $\\log_{10}P_{ij}$\n",
    "* The known observational uncertainty on the apparent magnitude of the $j^{th}$ cepheid in the $i^{th}$ galaxy, $\\sigma^{\\rm obs}_{ij}$\n",
    "\n",
    "* The luminosity distance to the $i^{th}$ galaxy, $D_{L,i}$\n",
    "* The slope parameter of the period-luminosity relation in the $i^{th}$ galaxy, $b_{i}$\n",
    "* The intercept parameter of the period-luminosity relation in the $i^{th}$ galaxy, $a_{i}$\n",
    "\n",
    "* The mean and standard deviation of the Gaussian distribution of period-luminosity relation slopes, the hyperparameters $\\bar{b}$ and $\\sigma_b$\n",
    "* The mean and standard deviation of the Gaussian distribution of period-luminosity relation intercepts, the hyperparameters $\\bar{a}$ and $\\sigma_a$"
   ]
  },
  {
   "cell_type": "markdown",
   "metadata": {},
   "source": [
    "#### A simplified model\n",
    "\n",
    "With the above assumptions of Gaussian magnitude errors, zero period uncertainties, and no intrinsic scatter within a host galaxy, the problem can be simplified considerably. \n",
    "\n",
    "In this case, all the data for a given host galaxy can be *summarized* without loss of information by the results of a weighted least squares (WLS) regression of the P-L relation for the Cepheids in that galaxy. WLS gives us the posterior mean and covariance for $a_i$ and $b_i$ that we would get assuming uniform priors on $a_i$ and $b_i$.\n",
    "\n",
    "Of course, in the end we will not want to assume uniform priors; our model describes the distribution of $a$'s and $b$'s as Gaussian. So the problem isn't fully solved yet, but it will simplify.\n",
    "\n",
    "Don't take our word for it. Write down an expression for the likelihood in this problem (you can leave out the deterministic parts involving $m$ and $D_L$), and convince yourself that the substitution\n",
    "\n",
    "$\\prod_j p(M_{ij}|P_{ij},\\sigma_{ij},a_i,b_i) \\rightarrow p(\\mu_i|\\Sigma_i,a_i,b_i)$\n",
    "\n",
    "makes sense. Here $\\mu_i$ and $\\Sigma_i$ would be the best fit and covariance of the WLS parameters, and the rhs distribution is a 2D Gaussian."
   ]
  },
  {
   "cell_type": "markdown",
   "metadata": {},
   "source": [
    "Adopting the list of $\\mu_i$ and $\\Sigma_i$ as summaries of the data, draw a much simpler PGM for the problem."
   ]
  },
  {
   "cell_type": "markdown",
   "metadata": {},
   "source": [
    "Now, of course, you get to compute the WLS regressions for each galaxy. This is reasonably convenient with the `statsmodels` package."
   ]
  },
  {
   "cell_type": "code",
   "execution_count": 13,
   "metadata": {},
   "outputs": [
    {
     "ename": "TypeError",
     "evalue": "get_wls_model() missing 1 required positional argument: 'this'",
     "output_type": "error",
     "traceback": [
      "\u001b[1;31m---------------------------------------------------------------------------\u001b[0m",
      "\u001b[1;31mFileNotFoundError\u001b[0m                         Traceback (most recent call last)",
      "\u001b[1;32m<ipython-input-13-b9a3880c7d81>\u001b[0m in \u001b[0;36m<module>\u001b[1;34m\u001b[0m\n\u001b[0;32m     11\u001b[0m \u001b[1;32mtry\u001b[0m\u001b[1;33m:\u001b[0m\u001b[1;33m\u001b[0m\u001b[1;33m\u001b[0m\u001b[0m\n\u001b[1;32m---> 12\u001b[1;33m     \u001b[0mexec\u001b[0m\u001b[1;33m(\u001b[0m\u001b[0mopen\u001b[0m\u001b[1;33m(\u001b[0m\u001b[1;34m'Solution/do_WLS.py'\u001b[0m\u001b[1;33m)\u001b[0m\u001b[1;33m.\u001b[0m\u001b[0mread\u001b[0m\u001b[1;33m(\u001b[0m\u001b[1;33m)\u001b[0m\u001b[1;33m)\u001b[0m\u001b[1;33m\u001b[0m\u001b[1;33m\u001b[0m\u001b[0m\n\u001b[0m\u001b[0;32m     13\u001b[0m \u001b[1;32mexcept\u001b[0m \u001b[0mIOError\u001b[0m\u001b[1;33m:\u001b[0m\u001b[1;33m\u001b[0m\u001b[1;33m\u001b[0m\u001b[0m\n",
      "\u001b[1;31mFileNotFoundError\u001b[0m: [Errno 2] No such file or directory: 'Solution/do_WLS.py'",
      "\nDuring handling of the above exception, another exception occurred:\n",
      "\u001b[1;31mTypeError\u001b[0m                                 Traceback (most recent call last)",
      "\u001b[1;32m<ipython-input-13-b9a3880c7d81>\u001b[0m in \u001b[0;36m<module>\u001b[1;34m\u001b[0m\n\u001b[0;32m     17\u001b[0m     \u001b[1;32mfor\u001b[0m \u001b[0mngc\u001b[0m \u001b[1;32min\u001b[0m \u001b[0mngcs\u001b[0m\u001b[1;33m:\u001b[0m\u001b[1;33m\u001b[0m\u001b[1;33m\u001b[0m\u001b[0m\n\u001b[0;32m     18\u001b[0m         \u001b[0mthis\u001b[0m \u001b[1;33m=\u001b[0m \u001b[0mcepheids\u001b[0m\u001b[1;33m[\u001b[0m\u001b[0mcepheids\u001b[0m\u001b[1;33m.\u001b[0m\u001b[0mgal\u001b[0m \u001b[1;33m==\u001b[0m \u001b[0mngc\u001b[0m\u001b[1;33m]\u001b[0m\u001b[1;33m\u001b[0m\u001b[1;33m\u001b[0m\u001b[0m\n\u001b[1;32m---> 19\u001b[1;33m         \u001b[0mmodel\u001b[0m \u001b[1;33m=\u001b[0m \u001b[0mget_wls_model\u001b[0m\u001b[1;33m(\u001b[0m\u001b[1;33m)\u001b[0m \u001b[1;31m# check out the documentation for statsmodels.api.WLS\u001b[0m\u001b[1;33m\u001b[0m\u001b[1;33m\u001b[0m\u001b[0m\n\u001b[0m\u001b[0;32m     20\u001b[0m         \u001b[0mwls\u001b[0m \u001b[1;33m=\u001b[0m \u001b[0mmodel\u001b[0m\u001b[1;33m.\u001b[0m\u001b[0mfit\u001b[0m\u001b[1;33m(\u001b[0m\u001b[1;33m)\u001b[0m\u001b[1;33m\u001b[0m\u001b[1;33m\u001b[0m\u001b[0m\n\u001b[0;32m     21\u001b[0m         \u001b[0mj\u001b[0m \u001b[1;33m=\u001b[0m \u001b[1;33m(\u001b[0m\u001b[0mgalaxies\u001b[0m\u001b[1;33m.\u001b[0m\u001b[0mgal\u001b[0m \u001b[1;33m==\u001b[0m \u001b[0mngc\u001b[0m\u001b[1;33m)\u001b[0m\u001b[1;33m\u001b[0m\u001b[1;33m\u001b[0m\u001b[0m\n",
      "\u001b[1;31mTypeError\u001b[0m: get_wls_model() missing 1 required positional argument: 'this'"
     ]
    }
   ],
   "source": [
    "# Suggestions:\n",
    "# We get to juggle covariance matrices now, so perhaps give up on using pandas to organize things, and resort to dicts.\n",
    "# Also, subtract ~1.5 from the log(P)'s to approximately center them on zero.\n",
    "# This trick reduces the covariance of the WLS parameters, which will ultimately make our sampling more efficient.\n",
    "# But don't forget when interpreting the intercepts!\n",
    "import statsmodels.api as sm\n",
    "def get_wls_model(this):\n",
    "    model = sm.WLS(this.M, this.loc[:, 'logP'])\n",
    "    return model\n",
    "\n",
    "try:\n",
    "    exec(open('Solution/do_WLS.py').read())\n",
    "except IOError:\n",
    "    mu_a = {} # dictionaries to be indexed by galaxy name, holding an average a\n",
    "    mu_b = {} # an average b,\n",
    "    Sigma = {} # and a covariance matrix from WLS fit\n",
    "    for ngc in ngcs:\n",
    "        this = cepheids[cepheids.gal == ngc]\n",
    "        model = get_wls_model(this) # check out the documentation for statsmodels.api.WLS\n",
    "        wls = model.fit()\n",
    "        j = (galaxies.gal == ngc)\n",
    "        mu_a[ngc] = REPLACE_WITH_YOUR_SOLUTION()\n",
    "        mu_b[ngc] = REPLACE_WITH_YOUR_SOLUTION()\n",
    "        Sigma[ngc] = np.asmatrix( REPLACE_WITH_YOUR_SOLUTION() )"
   ]
  },
  {
   "cell_type": "markdown",
   "metadata": {},
   "source": [
    "Just to prove this did something reasonable, lets plot the individual WLS fits over the data. And then never look at the full Cepheid data ever again.\n",
    "\n",
    "NB, the code below assumes that you *did* subtract 1.5 from the log-periods before doing the WLS."
   ]
  },
  {
   "cell_type": "code",
   "execution_count": null,
   "metadata": {},
   "outputs": [],
   "source": [
    "plt.xlim([0.3, 2.5])\n",
    "plt.ylim(np.array([30.0, 17.0])-25.0-5.0) # magnitudes go backwards!\n",
    "for ngc,color in zip(ngcs, gal_colors):\n",
    "    this = cepheids[cepheids.gal == ngc]\n",
    "    plt.errorbar(this.logP, this.M, yerr=this.merr, fmt='.', ms=7, lw=1, color=color, label='NGC'+str(int(ngc)))\n",
    "    plt.plot(np.sort(this.logP), mu_a[ngc]+mu_b[ngc]*np.sort(this.logP-1.5), color=color, label='')\n",
    "plt.xlabel('$\\\\log_{10} P / {\\\\rm days}$', fontsize=20)\n",
    "plt.ylabel('${\\\\rm Magnitude (AB)}$', fontsize=20)\n",
    "plt.title('Cepheid Period-Luminosity (Riess et al 2011)', fontsize=20)\n",
    "plt.legend(loc='upper left');"
   ]
  },
  {
   "cell_type": "markdown",
   "metadata": {},
   "source": [
    "And let's look at the individual $\\mu_a$'s and $\\mu_b$'s (ignoring the error covariance for plotting)."
   ]
  },
  {
   "cell_type": "code",
   "execution_count": null,
   "metadata": {},
   "outputs": [],
   "source": [
    "plt.rcParams['figure.figsize'] = (5.0, 4.0)\n",
    "plt.errorbar([mu_a[ngc] for ngc in ngcs], [mu_b[ngc] for ngc in ngcs], xerr=np.sqrt([Sigma[ngc][0,0] for ngc in ngcs]),\n",
    "            yerr=np.sqrt([Sigma[ngc][1,1] for ngc in ngcs]), fmt='.')\n",
    "plt.xlabel('$\\mu_a$', fontsize=20)\n",
    "plt.ylabel('$\\mu_b$', fontsize=20);"
   ]
  },
  {
   "cell_type": "markdown",
   "metadata": {},
   "source": [
    "This problem will be continued in this week's homework assignment."
   ]
  }
 ],
 "metadata": {
  "kernelspec": {
   "display_name": "Python 3",
   "language": "python",
   "name": "python3"
  },
  "language_info": {
   "codemirror_mode": {
    "name": "ipython",
    "version": 3
   },
   "file_extension": ".py",
   "mimetype": "text/x-python",
   "name": "python",
   "nbconvert_exporter": "python",
   "pygments_lexer": "ipython3",
   "version": "3.6.7"
  }
 },
 "nbformat": 4,
 "nbformat_minor": 2
}
