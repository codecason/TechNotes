{
 "cells": [
  {
   "cell_type": "markdown",
   "metadata": {},
   "source": [
    "# Week 5 Tutorial\n",
    "\n",
    "## Checking and Comparing Models"
   ]
  },
  {
   "cell_type": "markdown",
   "metadata": {},
   "source": [
    "## Introduction\n",
    "\n",
    "In this tutorial we'll look at some simple, realistic, simulated data, and do some model evaluation:\n",
    "\n",
    "* We'll fit a simple model, and then do a _posterior predictive model check_ of the adequacy of the fit\n",
    "* We'll quantify the generalized predictive accuracy of the model with the _DIC_\n",
    "* We'll calculate the _Bayesian evidence_ for the model\n",
    "\n",
    "For homework, you will:\n",
    "\n",
    "* Devise an alternative model, repeat the above steps, and compare your more complex model with the simple starting one. \n",
    "\n",
    "Since we know that you'll need to _repeat the above steps_ we will aim to write this notebook such that, when completed, it provides a module that you can extend at home.\n",
    "\n",
    "### Reminder!\n",
    "\n",
    "After pulling down the tutorial notebook, immediately make a copy. Then do not modify the original. Do your work in the copy. This will prevent the possibility of git conflicts should the version-controlled file change at any point in the future."
   ]
  },
  {
   "cell_type": "code",
   "execution_count": null,
   "metadata": {},
   "outputs": [],
   "source": [
    "class SolutionMissingError(Exception):\n",
    "    def __init__(self):\n",
    "        Exception.__init__(self,\"You need to edit the code provided for it to run!\")\n",
    "def REPLACE_WITH_YOUR_SOLUTION():\n",
    "    raise SolutionMissingError"
   ]
  },
  {
   "cell_type": "markdown",
   "metadata": {},
   "source": [
    "## The Dataset\n",
    "\n",
    "Our data is just a list of numbers. Each one represents a measured distance $y$ between two different estimates of the center of a galaxy cluster: the location of the brightest galaxy and a centroid of the emissive, diffuse gas. The context here is that automated algorithms sometimes fail to chose the central galaxy correctly (because of image artifacts or other problems), whereas the gas centroid is more reliable but also more expensive to measure. Therefore, we'd like to use this data set to _characterize the distribution of mis-centerings_ so that the galaxy-based centers can be used for large sample, with the resulting errors propagated forward through future processing, e.g., weak lensing estimates.\n",
    "\n",
    "Let's load up the data and have a look."
   ]
  },
  {
   "cell_type": "code",
   "execution_count": null,
   "metadata": {},
   "outputs": [],
   "source": [
    "import numpy as np\n",
    "import scipy.stats as st\n",
    "import matplotlib.pyplot as plt\n",
    "\n",
    "plt.rcParams['xtick.labelsize'] = 'large'\n",
    "plt.rcParams['ytick.labelsize'] = 'large'\n",
    "%matplotlib inline\n",
    "# or %matplotlib notebook"
   ]
  },
  {
   "cell_type": "code",
   "execution_count": null,
   "metadata": {},
   "outputs": [],
   "source": [
    "# Load data into global variable y. \n",
    "# You'll need to make sure of the data file's location! A good guess would be:\n",
    "# y = np.loadtxt('../../data/model_comparison.dat')\n",
    "y = REPLACE_WITH_YOUR_SOLUTION()"
   ]
  },
  {
   "cell_type": "code",
   "execution_count": null,
   "metadata": {},
   "outputs": [],
   "source": [
    "plt.rcParams['figure.figsize'] = (8.0, 6.0)\n",
    "\n",
    "bins = np.linspace(0,1000,20)\n",
    "plt.hist(y, bins=bins, color=\"lightgray\")\n",
    "\n",
    "plt.xlabel(\"Measured distance $y$\")\n",
    "plt.ylabel(\"Frequency\");"
   ]
  },
  {
   "cell_type": "markdown",
   "metadata": {},
   "source": [
    "## Preamble: Pre-registering a Hypothesis\n",
    "\n",
    "The hypothesis we will test in this tutorial is the model outlined in the next section - but how well that model fits the data is a question we will answer in part using a _test statistic._ \n",
    "\n",
    "Having understood what the data represent (and had a quick look at them), what feature in the data do you want your model to explain well?  \n",
    "\n",
    "With this in mind, what is a good test statistic to _summarize_ the data? Spend a few mins thinking about this and discussing it, before writing it down below. You'll then use this \"pre-registered\" test statistic in a Bayesian model check below.\n",
    "\n",
    "> \"Registering a hypothesis\" in this way is a good idea (and standard practice in clinical trials in medical research) - it helps you avoid falling into the trap of _a posteriori_ reasoning. Here's an [interesting article in Science magazine](https://www.sciencemag.org/news/2018/09/more-and-more-scientists-are-preregistering-their-studies-should-you) on the topic, to read at home."
   ]
  },
  {
   "cell_type": "code",
   "execution_count": null,
   "metadata": {},
   "outputs": [],
   "source": [
    "# Test statistic: ..."
   ]
  },
  {
   "cell_type": "markdown",
   "metadata": {},
   "source": [
    "## Evaluating a Simple Model\n",
    "\n",
    "First, let's assume a simple model $H_1$, that the sampling distribution is an exponential:\n",
    "\n",
    "**Model 1:** $P(y|a_1, H_1) = \\frac{1}{a_1}e^{-y/a_1}$; $y\\geq0$\n",
    "\n",
    "We'll then want to fit that model to the data, and then evaluate the model using the methods we saw in the [model evaluation lesson](../lessons/modelevaluation.ipynb). These include:\n",
    "\n",
    "* A visual check using replica datasets drawn from the posterior predictive distribution\n",
    "* A quantitative posterior predictive model check using a suitable test statistic $T(y)$\n",
    "* Calculating the Deviance Information Criterion (DIC) to assess the model's (relative) generalized predictive accuracy\n",
    "* Calculating the Bayesian Evidence to provide insight on the (relative) probability of the model given the data.\n",
    "\n",
    "Notice that each of these bulleted operations can be coded as a _function of the model_ (e.g. a visual check of the model, the evidence of the model, and so on). That suggests that we should write a _class_ that completely describes the model, and then a set of _functions that act on model objects passed to them._"
   ]
  },
  {
   "cell_type": "markdown",
   "metadata": {},
   "source": [
    "Look carefully through the `SimpleModel` class below. It contains methods for evaluating its various PDFs, and also for drawing samples (or replica datasets) from them. \n",
    "\n",
    "> Note that some methods have lines that need to be replaced with your own code before they will run! The first part of the tutorial will involve fixing these lines. Each time you edit the class, you'll need to re-run its cell, and also re-make any instances of the class that you are using.\n",
    "\n",
    "When you are done reading the code, scroll down to the exercises.\n",
    "\n",
    "----"
   ]
  },
  {
   "cell_type": "code",
   "execution_count": null,
   "metadata": {},
   "outputs": [],
   "source": [
    "class SimpleModel(object):\n",
    "    \"\"\"\n",
    "    Parameter inference and model evaluation in a simple cluster mis-centering analysis.\n",
    "    \"\"\"\n",
    "    def __init__(self):\n",
    "        # Sometimes it will be convenient to compute many log_likelihood values at once:\n",
    "        self.vectorized_log_likelihood = np.vectorize(self.log_likelihood)\n",
    "        # NB Higher dimension models would need an additional kwarg, signature=\"(Ndim)->()\"\n",
    "        # Dimensionality of the parameter space:\n",
    "        self.Ndim = 1\n",
    "        # Every prior needs some hyperparameters to define it:\n",
    "        self.hyperparameters = REPLACE_WITH_YOUR_SOLUTION()\n",
    "        return\n",
    "  \n",
    "    def __repr__(self):\n",
    "        return \"Simple model assuming exponential sampling distribution with mean a, and a <to be named> prior for a, with hyperparameters {} and {}.\".format(self.hyperparameters[0], self.hyperparameters[1])\n",
    "\n",
    "    def log_prior(self, a):\n",
    "        \"\"\"\n",
    "        Evaluate the log prior PDF P(a|H)\n",
    "        \"\"\"\n",
    "        value = REPLACE_WITH_YOUR_SOLUTION()\n",
    "        return value\n",
    "\n",
    "    def draw_samples_from_prior(self, Ns):\n",
    "        \"\"\"\n",
    "        Draw samples from the prior PDF P(a|H)\n",
    "        \"\"\"\n",
    "        samples = REPLACE_WITH_YOUR_SOLUTION() \n",
    "        return samples\n",
    "\n",
    "    def log_likelihood(self, a):\n",
    "        \"\"\"\n",
    "        Evaluate the log of the likelihood function L(a) = P(y|a,H)\n",
    "        \n",
    "        May need to guard against values of a<0...\n",
    "        \"\"\"\n",
    "        value = np.sum(st.expon.logpdf(y, scale=a))\n",
    "        return value\n",
    "    \n",
    "    def log_posterior(self, a):\n",
    "        \"\"\"\n",
    "        Evaluate the log of the (unnormalized) posterior PDF P(a|y,H)\n",
    "        \n",
    "        Notes\n",
    "        ----\n",
    "        * We'll use this with an MCMC sampler, so it should call the non-vectorized likelihood.\n",
    "        \"\"\"\n",
    "        value = REPLACE_WITH_YOUR_SOLUTION()\n",
    "        return value\n",
    "\n",
    "    def sampling_distribution(self, yy, a):\n",
    "        \"\"\"\n",
    "        Evaluate the sampling distribution P(yy|a,H) at a point in data space yy given parameter a\n",
    "            \n",
    "        Notes\n",
    "        -----\n",
    "        This is useful for making plots of \"the model\" overlaid on the histogram of the data\n",
    "        \"\"\"\n",
    "        value = st.expon.pdf(yy, scale=a)\n",
    "        return value \n",
    "        \n",
    "    def generate_replica_dataset(self, a):\n",
    "        \"\"\"\n",
    "        Draw a replica dataset y_rep from the sampling distribution P(y_rep|a,H)\n",
    "        \"\"\"\n",
    "        Nd = len(y)\n",
    "        y_rep = st.expon.rvs(size=Nd, scale=a) \n",
    "        return y_rep\n",
    "   \n",
    "    def draw_samples_from_posterior(self, guess=None, nwalkers=None, nsteps=None, burn=None, thinby=None):\n",
    "        \"\"\"\n",
    "        Use emcee to draw samples from P(a|y,H)\n",
    "        \"\"\"\n",
    "        # Deal with unset inputs:\n",
    "        if guess is None: print(\"You need to specify a starting point in parameter space with the `guess=` kwarg...\")\n",
    "        if nwalkers is None: print(\"You need to specify the `nwalkers=` kwarg...\")\n",
    "        if nsteps is None: print(\"You need to specify the chain length `nsteps=` kwarg...\")\n",
    "        if burn is None: print(\"You need to specify the length of burnin `burn=` kwarg...\")\n",
    "        if thinby is None: print(\"You need to specify the thinning factor `thinby=` kwarg...\")\n",
    "      \n",
    "        import emcee\n",
    "        # The density to sample is this model's own posterior PDF\"\n",
    "        lnprob = self.log_posterior\n",
    "        npars = self.Ndim\n",
    "        \n",
    "        self.sampler = emcee.EnsembleSampler(nwalkers, npars, lnprob) \n",
    "        # You could add e.g. threads=4 to speed things up with multiprocessing\n",
    "        \n",
    "        # Generate an ensemble of walkers within +/-1% of the guess:\n",
    "        theta_0 = np.array([[guess]*(1.0 + 0.01*np.random.randn(npars)) for j in range(nwalkers)])\n",
    "        # Note that the initial parameter array theta_0 should have dimensions nwalkers × npars\n",
    "        \n",
    "        # Evolve the ensemble:\n",
    "        self.sampler.run_mcmc(theta_0, nsteps)\n",
    "        \n",
    "        # Plot the raw samples:\n",
    "        plt.rcParams['figure.figsize'] = (12.0, 6.0)\n",
    "        plt.subplot(211)\n",
    "        for j in range(nwalkers): \n",
    "            plt.plot(self.sampler.chain[j,:,0], 'o', alpha=0.2)\n",
    "        plt.title(\"Raw Markov chains\")\n",
    "            \n",
    "        # Extract the chain, remove burnin, merge, and thin:\n",
    "        samples = self.sampler.chain[:, burn:, :].reshape((-1, npars))\n",
    "        samples = samples[range(0,samples.shape[0],thinby),:]\n",
    "        \n",
    "        # Keep the samples with the model for future use!\n",
    "        self.samples = samples\n",
    "        self.Nsamples = len(samples)\n",
    "        \n",
    "        # Plot the thinned chain\n",
    "        plt.subplot(212)\n",
    "        plt.plot(samples[:,0], 'o')\n",
    "        plt.title(\"Thinned, post-burnin chains\");\n",
    "\n",
    "        return samples  "
   ]
  },
  {
   "cell_type": "markdown",
   "metadata": {},
   "source": [
    "#### 1. Select a prior distribution for the parameter in Model 1.\n",
    "\n",
    "Make sure it's a proper (normalizable) distribution. We don't want to deal with improper distributions when calculating the evidence later on.\n",
    "\n",
    "Now implement your prior PDF in the class above. For example, to adopt a uniform prior, you could just use two hyperparameters to define the upper and lower limits of a uniform distribution. Note that you need to write code both to _evaluate_ the log prior and _draw samples_ from the prior.\n",
    "\n",
    "Once you have completed your functions, instantiate a model and draw a dozen samples from its prior, like this: "
   ]
  },
  {
   "cell_type": "code",
   "execution_count": null,
   "metadata": {},
   "outputs": [],
   "source": [
    "Model1 = SimpleModel()\n",
    "print(Model1)\n",
    "\n",
    "a = Model1.draw_samples_from_prior(12)\n",
    "print(\"12 sample a values drawn from the prior: \",a)"
   ]
  },
  {
   "cell_type": "markdown",
   "metadata": {},
   "source": [
    "#### 2. Write the log posterior function for Model 1, and test it.\n",
    "\n",
    "Edit the class code, and then re-run its cell and the `Model1` assignment cell. Do some simple tests of the `Model1` log posterior method to make sure it does what you want."
   ]
  },
  {
   "cell_type": "code",
   "execution_count": null,
   "metadata": {},
   "outputs": [],
   "source": []
  },
  {
   "cell_type": "code",
   "execution_count": null,
   "metadata": {},
   "outputs": [],
   "source": []
  },
  {
   "cell_type": "markdown",
   "metadata": {},
   "source": [
    "#### 3. Fit Model 1 to the data.\n",
    "\n",
    "The `draw_samples_from_posterior` method carries out a parameter inference with `emcee`, displaying its Markov chains, removing burn-in, thinning, and concatenating the chains. Since this step isn't really the point of this problem, the code is given to you, but you'll still need to experiment with the keyword argument (\"kwarg\") inputs (and read the code to see what they do) in order to get good results. (The suggestions in the cell below are pretty terrible.)\n",
    "\n",
    "NB. For future reference, the MCMC samples are also stored in the `Model.samples` array.\n",
    "\n",
    "> If you do not already have `emcee` installed, you should be able to `pip install` it. The documentation is available [here](http://dfm.io/emcee/current/user/install/)."
   ]
  },
  {
   "cell_type": "code",
   "execution_count": null,
   "metadata": {},
   "outputs": [],
   "source": [
    "samples = Model1.draw_samples_from_posterior(guess=1000.0, nwalkers=100, nsteps=10, burn=0, thinby=100)"
   ]
  },
  {
   "cell_type": "markdown",
   "metadata": {},
   "source": [
    "It will be useful for later to know the mean of the posterior:"
   ]
  },
  {
   "cell_type": "code",
   "execution_count": null,
   "metadata": {},
   "outputs": [],
   "source": [
    "pm = np.mean(Model.samples, axis=0)\n",
    "print(\"Posterior mean value of a = \",pm)"
   ]
  },
  {
   "cell_type": "markdown",
   "metadata": {},
   "source": [
    "#### 4. Visually compare the predictions of Model 1 with the data.\n",
    "\n",
    "First, let's just plot the posterior-mean model over the data."
   ]
  },
  {
   "cell_type": "code",
   "execution_count": null,
   "metadata": {},
   "outputs": [],
   "source": [
    "plt.rcParams['figure.figsize'] = (8.0, 6.0)\n",
    "\n",
    "# First the histogram of observed data, as backdrop:\n",
    "plt.hist(y, bins=bins, color=\"lightgray\", density=True, label=\"Observed\")\n",
    "\n",
    "# Now overlay a curve following the sampling distribution conditioned on the posterior mean value of a: \n",
    "pp = REPLACE_WITH_YOUR_SOLUTION()\n",
    "plt.plot(bins, pp, linestyle=\"dashed\", color=\"red\", label=\"Posterior mean model\")\n",
    "\n",
    "plt.xlabel(\"Measured distance $y$\")\n",
    "plt.ylabel(\"Normalized Frequency\")\n",
    "plt.legend();"
   ]
  },
  {
   "cell_type": "markdown",
   "metadata": {},
   "source": [
    "This kind of plot should be familiar: it's often a good idea to evaluate model adequacy in data space. You should already be able to see telling differences between the a well-fitting model's sampling distribution, and the data histogram.\n",
    "\n",
    "Now, let's compare a random predicted (\"replica\") data set, drawn from the _posterior predictive distribution,_ with the data. To do this we first draw a parameter value from the posterior PDF, and then generate a dataset from the sampling distribution conditioned on that value. The result is a sample from $P(y_{rep}|y)$."
   ]
  },
  {
   "cell_type": "code",
   "execution_count": null,
   "metadata": {},
   "outputs": [],
   "source": [
    "plt.rcParams['figure.figsize'] = (8.0, 6.0)\n",
    "\n",
    "# First the histogram of observed data, as backdrop:\n",
    "plt.hist(y, bins=bins, color=\"lightgray\", density=True, label=\"Observed\")\n",
    "\n",
    "# Choose a posterior sample \"at random\" and generate a replica dataset, and show its histogram\n",
    "j = REPLACE_WITH_YOUR_SOLUTION()\n",
    "a = Model.samples[j]\n",
    "mock = REPLACE_WITH_YOUR_SOLUTION()\n",
    "plt.hist(mock, bins=bins, alpha=1.0, histtype=\"step\", color=\"red\", density=True, label=\"Sample posterior prediction\")\n",
    "\n",
    "plt.xlabel(\"Measured distance $y$\")\n",
    "plt.ylabel(\"Normalized Frequency\")\n",
    "plt.legend();"
   ]
  },
  {
   "cell_type": "markdown",
   "metadata": {},
   "source": [
    "This plot is nice because it is comparing apples with apples: do mock datasets drawn from our model sampling distribution with any plausible parameter value \"look like\" the real data?\n",
    "\n",
    "To best evaluate this, we want to visualize the posterior predictive distribution of replica datasets. We can do this by plotting many replica datasets drawn from the posterior predictive PDF, e.g. _one for each of our posterior samples_. Let's put this plot in a function, so we can re-use it later."
   ]
  },
  {
   "cell_type": "code",
   "execution_count": null,
   "metadata": {},
   "outputs": [],
   "source": [
    "def visual_check(Model, Nreps=None):\n",
    "    plt.rcParams['figure.figsize'] = (8.0, 6.0)\n",
    "\n",
    "    # First the histogram of observed data, as backdrop:\n",
    "    bins = np.linspace(0,1000,20)\n",
    "    plt.hist(y, bins=bins, color=\"lightgray\", density=True, label=\"Observed\")\n",
    "\n",
    "    # Compute the posterior mean parameter (vector)\n",
    "    pm = np.mean(Model.samples, axis=0)\n",
    "\n",
    "    # Make a large number of replica datasets, and overlay histograms of them all \n",
    "    if Nreps is None: Nreps = len(Model.samples)\n",
    "    alpha = 5.0 / Nreps\n",
    "    for j in range(Nreps): \n",
    "        if j==0:  \n",
    "            # Plot a dataset drawn using a = the posterior mean a, to give a good legend\n",
    "            mock = REPLACE_WITH_YOUR_SOLUTION()\n",
    "            plt.hist(mock, bins=bins, histtype=\"step\", alpha=1.0, color=\"red\", density=True, label=\"Sample posterior predictions\")\n",
    "        else:     \n",
    "            # Take the next posterior sample a and generate a replica dataset\n",
    "            mock = REPLACE_WITH_YOUR_SOLUTION()\n",
    "            plt.hist(mock, bins=bins, histtype=\"step\", alpha=alpha, color=\"red\", density=True)\n",
    "\n",
    "    # Include the posterior mean model for comparison\n",
    "    pp = REPLACE_WITH_YOUR_SOLUTION()\n",
    "    plt.plot(bins, pp, linestyle=\"dashed\", color=\"red\", label=\"Posterior mean model\")\n",
    "\n",
    "    plt.xlabel(\"Measured distance $y$\")\n",
    "    plt.ylabel(\"Normalized Frequency\")\n",
    "    plt.legend();\n",
    "    \n",
    "    return"
   ]
  },
  {
   "cell_type": "code",
   "execution_count": null,
   "metadata": {},
   "outputs": [],
   "source": [
    "visual_check(Model1)"
   ]
  },
  {
   "cell_type": "markdown",
   "metadata": {},
   "source": [
    "#### 5. Quantitative posterior predictive model check\n",
    "\n",
    "Now let's quantify the (in)adequacy of the fit with a quantitative _posterior predictive model check_. We define a test statistic $T(y)$ that summarizes a dataset $y$, and look at _its_ posterior predictive distribution.\n",
    "\n",
    "Code up the test statistic you came up with when looking at the data at the start of this tutorial - that relates to your \"pre-registered hypothesis.\""
   ]
  },
  {
   "cell_type": "code",
   "execution_count": null,
   "metadata": {},
   "outputs": [],
   "source": [
    "def T(y):\n",
    "    \"\"\"\n",
    "    Compute a test statistic to summarize a single dataset y\n",
    "    \"\"\"\n",
    "    T = REPLACE_WITH_YOUR_SOLUTION()\n",
    "    return T"
   ]
  },
  {
   "cell_type": "markdown",
   "metadata": {},
   "source": [
    "To sample the posterior predictive distribution of test statistics $P(T(y_{rep})|y)$, we need to generate replica datasets from the model:"
   ]
  },
  {
   "cell_type": "code",
   "execution_count": null,
   "metadata": {},
   "outputs": [],
   "source": [
    "def distribution_of_T(Model):\n",
    "    \"\"\"\n",
    "    Compute T(yrep) for each yrep drawn from the posterior predictive distribution, using samples stored in Model\n",
    "    \"\"\"\n",
    "    TT = np.array([T(Model.generate_replica_dataset(a)) for a in Model.samples])\n",
    "    return TT"
   ]
  },
  {
   "cell_type": "markdown",
   "metadata": {},
   "source": [
    "We can now do the following:\n",
    "* plot a histogram of `TT`\n",
    "* compare that distribution with T(real data)\n",
    "* compute and report the p-value for T\n",
    "\n",
    "And we want all of that in packaged in functions of the model, so that we can re-use it later (on different models!). \n",
    "\n",
    "First let's write a function to compute the p-value, $P(T > T(y)|y,H)$:"
   ]
  },
  {
   "cell_type": "code",
   "execution_count": null,
   "metadata": {},
   "outputs": [],
   "source": [
    "def pvalue(Model):\n",
    "    \"\"\"\n",
    "    Compute the posterior predictive p-value, P(T > T(y)|y,H):\n",
    "    \"\"\"\n",
    "    p = REPLACE_WITH_YOUR_SOLUTION()\n",
    "    # Print out the result and return it\n",
    "    print(\"The (approximate) posterior predictive probability P(T > T(y)|y,H) = {}\".format(p))\n",
    "    return p"
   ]
  },
  {
   "cell_type": "markdown",
   "metadata": {},
   "source": [
    "And then write a function that plots the distribution of T, and reports the p-value:"
   ]
  },
  {
   "cell_type": "code",
   "execution_count": null,
   "metadata": {},
   "outputs": [],
   "source": [
    "def posterior_predictive_check(Model):\n",
    "    \"\"\"\n",
    "    Compute the posterior predictive distribution of the test statistic T(y_rep), and compare with T(y_obs) \n",
    "    \"\"\"\n",
    "    # Compute distribution of T(yrep):\n",
    "    TT = distribution_of_T(Model)\n",
    "    \n",
    "    # Plot:\n",
    "    plt.rcParams['figure.figsize'] = (8.0, 6.0)\n",
    "    plt.hist(TT, bins=50, histtype=\"step\", color=\"red\", label=\"$P(T(y_{\\\\rm rep})|y)$\")\n",
    "    \n",
    "    # Overlay T(y_obs):\n",
    "    plt.axvline(x=T(y), color=\"gray\", linestyle=\"dashed\", label=\"$T(y_{\\\\rm observed})$\")\n",
    "    plt.xlabel(\"Test statistic T(y)\")\n",
    "    plt.ylabel(\"Posterior predictive probability density\")\n",
    "    plt.legend();\n",
    "    \n",
    "    # Compute p-value:\n",
    "    p = pvalue(Model)\n",
    "\n",
    "    return p"
   ]
  },
  {
   "cell_type": "code",
   "execution_count": null,
   "metadata": {},
   "outputs": [],
   "source": [
    "p1 = posterior_predictive_check(Model1)"
   ]
  },
  {
   "cell_type": "markdown",
   "metadata": {},
   "source": [
    "#### 6. Calculate the DIC for Model 1.\n",
    "\n",
    "We saw in class that the Deviance Information Criterion is given by:\n",
    "\n",
    "$\\mathrm{DIC} = \\langle D(\\theta) \\rangle + p_D; \\quad p_D = \\langle D(\\theta) \\rangle - D(\\langle\\theta\\rangle)$\n",
    "\n",
    "where the deviance $D(\\theta)=-2\\log P(\\mathrm{data}|\\theta)$, and averages $\\langle\\rangle$ are over the posterior.\n",
    "\n",
    "In the homework we'll compare these to the corresponding values for a different model - so again, we need a re-usable function that takes a model object as input and returns the DIC, and pD. Let's write this function, and execute it for the simple model. "
   ]
  },
  {
   "cell_type": "code",
   "execution_count": null,
   "metadata": {},
   "outputs": [],
   "source": [
    "def DIC(Model):\n",
    "    \"\"\"\n",
    "    Compute the Deviance Information Criterion for the given model\n",
    "    \"\"\"\n",
    "    \n",
    "    pD = REPLACE_WITH_YOUR_SOLUTION()\n",
    "    DIC = REPLACE_WITH_YOUR_SOLUTION()\n",
    "    \n",
    "    print(\"The effective number of parameters fitted, pD = {:.3f}. The value of the DIC is {:.1f}\".format(pD,DIC))\n",
    "    \n",
    "    return DIC, pD"
   ]
  },
  {
   "cell_type": "code",
   "execution_count": null,
   "metadata": {},
   "outputs": [],
   "source": [
    "DIC1, pD1 = DIC(Model1)"
   ]
  },
  {
   "cell_type": "markdown",
   "metadata": {},
   "source": [
    "Does your value of $p_D$ make sense?"
   ]
  },
  {
   "cell_type": "markdown",
   "metadata": {},
   "source": [
    "#### 7. Compute the evidence for Model 1.\n",
    "\n",
    "To do this, note that\n",
    "\n",
    "$P(D|H)=\\int P(D|\\theta,H) \\, P(\\theta|H) d\\theta$\n",
    "\n",
    "can be approximated by an average over samples from the prior\n",
    "\n",
    "$P(D|H) \\approx \\frac{1}{m}\\sum_{k=1}^m P(D|\\theta_k,H)$; $\\theta_k\\sim P(\\theta|H)$.\n",
    "\n",
    "This approach is not especially efficient or numerically stable in general (because the likelihood typically is large in only a small fraction of the prior volume), but it will do for this exercise.\n",
    "\n",
    "In a function, draw a large number of samples from the prior and use them to calculate the evidence. To avoid numerical over/underflows, we'll use the special `scipy` function `logsumexp` to do the sum.\n",
    "\n",
    "Roughly how precisely do we need to know the log Evidence, to be able to compare models?"
   ]
  },
  {
   "cell_type": "code",
   "execution_count": null,
   "metadata": {},
   "outputs": [],
   "source": [
    "def log_evidence(Model, N=1000):\n",
    "    \"\"\"\n",
    "    Compute the log evidence for the model\n",
    "    \"\"\"\n",
    "    \n",
    "    from scipy.special import logsumexp\n",
    "    \n",
    "    log_evidence = REPLACE_WITH_YOUR_SOLUTION()\n",
    "    \n",
    "    print(\"The log Evidence for the model is {}\".format(log_evidence))\n",
    "    return log_evidence"
   ]
  },
  {
   "cell_type": "code",
   "execution_count": null,
   "metadata": {
    "scrolled": true
   },
   "outputs": [],
   "source": [
    "%%time\n",
    "logE1 = log_evidence(Model1, N=1000)"
   ]
  },
  {
   "cell_type": "markdown",
   "metadata": {},
   "source": [
    "## Summary\n",
    "\n",
    "We now have a lot of useful machinery for evaluating models for our data. We can do both visual and quantitative posterior predictive model checks to assess the adequacy of the model fit, and we can compute the DIC and the Bayesian evidence for the model, for use in model comparison. In the homework you will use this machinery to investigate a more complex model of your own design. Go to \"File\" -> \"Download as...\" -> \"Python (.py)\" to export the code from this notebook to a module you can `%load` into your homework notebook."
   ]
  }
 ],
 "metadata": {
  "anaconda-cloud": {},
  "kernelspec": {
   "display_name": "Python 3",
   "language": "python",
   "name": "python3"
  },
  "language_info": {
   "codemirror_mode": {
    "name": "ipython",
    "version": 3
   },
   "file_extension": ".py",
   "mimetype": "text/x-python",
   "name": "python",
   "nbconvert_exporter": "python",
   "pygments_lexer": "ipython3",
   "version": "3.6.7"
  }
 },
 "nbformat": 4,
 "nbformat_minor": 2
}
