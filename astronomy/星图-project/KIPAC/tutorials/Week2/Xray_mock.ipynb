{
 "cells": [
  {
   "cell_type": "markdown",
   "metadata": {
    "slideshow": {
     "slide_type": "slide"
    }
   },
   "source": [
    "# Week 2 Tutorial\n",
    "## Simulating X-ray Image Data\n",
    "\n",
    "In this tutorial we will:\n",
    "\n",
    "* Learn about the properties of images taken with X-ray telescopes\n",
    "* Generate a mock X-ray image dataset\n",
    "\n",
    "For homework, you will:\n",
    "\n",
    "* Carry out a simple inference of some model parameters from some X-ray image data.\n",
    "\n",
    "### Reminder!\n",
    "\n",
    "After pulling down the tutorial notebook, immediately make a copy. Then do not modify the original. Do your work in the copy. This will prevent the possibility of git conflicts should the version-controlled file change at any point in the future. (The same exhortation applies to homeworks.)"
   ]
  },
  {
   "cell_type": "markdown",
   "metadata": {},
   "source": [
    "### Import things"
   ]
  },
  {
   "cell_type": "code",
   "execution_count": 1,
   "metadata": {},
   "outputs": [],
   "source": [
    "import astropy.io.fits as pyfits\n",
    "import numpy as np\n",
    "import matplotlib.pyplot as plt\n",
    "%matplotlib inline\n",
    "from astropy.visualization import LogStretch\n",
    "logstretch = LogStretch()\n",
    "from io import StringIO   # StringIO behaves like a file object\n",
    "import scipy.stats\n",
    "\n",
    "class SolutionMissingError(Exception):\n",
    "    def __init__(self):\n",
    "        Exception.__init__(self,\"You need to complete the solution for this code to work!\")\n",
    "def REPLACE_WITH_YOUR_SOLUTION():\n",
    "    raise SolutionMissingError"
   ]
  },
  {
   "cell_type": "markdown",
   "metadata": {
    "slideshow": {
     "slide_type": "slide"
    }
   },
   "source": [
    "## Introduction to an X-ray CCD Observation\n",
    "\n",
    "This part introduces a data set that we'll use this week in the Tutorial and Homework, and that we'll see again in the future. There's a fair bit of domain information here, but it's useful stuff to see if you haven't before (even if you're not an X-ray observer).\n",
    "\n",
    "Modern X-ray CCDs are technologically similar to the CCDs used in optical astronomy. The main practical difference is that X-ray photons are rarer and their energies much higher.\n",
    "\n",
    "This means that:\n",
    "* If we read out the CCD every few seconds, only for exceptionally bright sources will we ever have $>1$ photon hit a given pixel.\n",
    "* We no longer get 1 electron count per photon. Instead the number of counts is related to the photon's energy, which means that these imaging devices are actually imaging spectrometers.\n",
    "* When we say \"counts\" in this context, we mean \"pixel activation events\" rather than number of electrons trapped, so that (as in optical astronomy) we're referring to the number of photons detected (or other events that look like photons to the detector)."
   ]
  },
  {
   "cell_type": "markdown",
   "metadata": {
    "slideshow": {
     "slide_type": "slide"
    }
   },
   "source": [
    "Let's look at some processed data from XMM-Newton for galaxy cluster Abell 1835.\n",
    "\n",
    "Here the raw \"event list\" has been processed to form an image, so _the spectral information has been discarded._"
   ]
  },
  {
   "cell_type": "markdown",
   "metadata": {
    "slideshow": {
     "slide_type": "slide"
    }
   },
   "source": [
    "XMM actually has 3 CCD cameras, but we'll just work with 1 for simplicity, and with just one of the available observations.\n",
    "\n",
    "We'll still need 2 files:\n",
    "* The image, in units of counts\n",
    "* The exposure map (units of seconds), which accounts for the exposure time and the variation in effective collecting area across the field due to vignetting\n",
    "https://heasarc.gsfc.nasa.gov/FTP/xmm/data/rev0/0098010101/PPS/P0098010101M2U009IMAGE_3000.FTZ"
   ]
  },
  {
   "cell_type": "markdown",
   "metadata": {},
   "source": [
    "There's a nice web interface that allows one to search the public archives for data, but to save time, just download the particular image and exposure map here:\n",
    "* https://heasarc.gsfc.nasa.gov/FTP/xmm/data/rev0/0098010101/PPS/P0098010101M2U009IMAGE_3000.FTZ\n",
    "* https://heasarc.gsfc.nasa.gov/FTP/xmm/data/rev0/0098010101/PPS/P0098010101M2U009EXPMAP3000.FTZ\n",
    "\n",
    "Details: this is an image produced from 1-3 keV events captured by the MOS2 camera in XMM's first observation of A1835, way back in 2001."
   ]
  },
  {
   "cell_type": "code",
   "execution_count": 11,
   "metadata": {
    "scrolled": true,
    "slideshow": {
     "slide_type": "fragment"
    }
   },
   "outputs": [
    {
     "name": "stdout",
     "output_type": "stream",
     "text": [
      " E:\\Lenovo\\1000projects\\Grade 6-1\\星图-project\\KIPAC\\tutorials\\Week2\n"
     ]
    },
    {
     "ename": "FileNotFoundError",
     "evalue": "[Errno 2] No such file or directory: 'E:\\\\Lenovo\\\\1000projects\\\\Grade 6-1\\\\星图-project\\\\KIPAC\\\\tutorials\\\\Week2\\\\P0098010101M2U009IMAGE_3000.FTZ'",
     "output_type": "error",
     "traceback": [
      "\u001b[1;31m---------------------------------------------------------------------------\u001b[0m",
      "\u001b[1;31mFileNotFoundError\u001b[0m                         Traceback (most recent call last)",
      "\u001b[1;32m<ipython-input-11-062f4003fe02>\u001b[0m in \u001b[0;36m<module>\u001b[1;34m\u001b[0m\n\u001b[0;32m      4\u001b[0m \u001b[0mimagefile\u001b[0m \u001b[1;33m=\u001b[0m \u001b[0mos\u001b[0m\u001b[1;33m.\u001b[0m\u001b[0mpath\u001b[0m\u001b[1;33m.\u001b[0m\u001b[0mabspath\u001b[0m\u001b[1;33m(\u001b[0m\u001b[0mdatadir\u001b[0m \u001b[1;33m+\u001b[0m \u001b[1;34m'P0098010101M2U009IMAGE_3000.FTZ'\u001b[0m\u001b[1;33m)\u001b[0m\u001b[1;33m\u001b[0m\u001b[1;33m\u001b[0m\u001b[0m\n\u001b[0;32m      5\u001b[0m \u001b[0mexpmapfile\u001b[0m \u001b[1;33m=\u001b[0m \u001b[0mdatadir\u001b[0m \u001b[1;33m+\u001b[0m \u001b[1;34m'P0098010101M2U009EXPMAP3000.FTZ'\u001b[0m\u001b[1;33m\u001b[0m\u001b[1;33m\u001b[0m\u001b[0m\n\u001b[1;32m----> 6\u001b[1;33m \u001b[1;32mwith\u001b[0m \u001b[0mopen\u001b[0m\u001b[1;33m(\u001b[0m\u001b[0mimagefile\u001b[0m\u001b[1;33m,\u001b[0m \u001b[1;34m'r'\u001b[0m\u001b[1;33m)\u001b[0m \u001b[1;32mas\u001b[0m \u001b[0mf\u001b[0m\u001b[1;33m:\u001b[0m\u001b[1;33m\u001b[0m\u001b[1;33m\u001b[0m\u001b[0m\n\u001b[0m\u001b[0;32m      7\u001b[0m     \u001b[0mprint\u001b[0m\u001b[1;33m(\u001b[0m\u001b[1;34m'xxx'\u001b[0m\u001b[1;33m)\u001b[0m\u001b[1;33m\u001b[0m\u001b[1;33m\u001b[0m\u001b[0m\n\u001b[0;32m      8\u001b[0m \u001b[1;31m# imfits = pyfits.open(imagefile)\u001b[0m\u001b[1;33m\u001b[0m\u001b[1;33m\u001b[0m\u001b[1;33m\u001b[0m\u001b[0m\n",
      "\u001b[1;31mFileNotFoundError\u001b[0m: [Errno 2] No such file or directory: 'E:\\\\Lenovo\\\\1000projects\\\\Grade 6-1\\\\星图-project\\\\KIPAC\\\\tutorials\\\\Week2\\\\P0098010101M2U009IMAGE_3000.FTZ'"
     ]
    }
   ],
   "source": [
    "datadir = './' # or whatever - path to where you put the downloaded files\n",
    "imagefile = datadir + 'P0098010101M2U009IMAGE_3000.FTZ'\n",
    "expmapfile = datadir + 'P0098010101M2U009EXPMAP3000.FTZ'\n",
    "\n",
    "imfits = pyfits.open(imagefile)\n",
    "exfits = pyfits.open(expmapfile)"
   ]
  },
  {
   "cell_type": "markdown",
   "metadata": {
    "slideshow": {
     "slide_type": "slide"
    }
   },
   "source": [
    "Let's see what we've got:"
   ]
  },
  {
   "cell_type": "code",
   "execution_count": null,
   "metadata": {
    "collapsed": true,
    "slideshow": {
     "slide_type": "fragment"
    }
   },
   "outputs": [],
   "source": [
    "imfits.info()\n",
    "exfits.info()"
   ]
  },
  {
   "cell_type": "markdown",
   "metadata": {
    "slideshow": {
     "slide_type": "slide"
    }
   },
   "source": [
    "`imfits` is a FITS object, containing multiple data structures. The image itself is an array of integer type, and size 648x648 pixels, stored in the primary \"header data unit\" or HDU. `exfits` contains only the exposure map."
   ]
  },
  {
   "cell_type": "code",
   "execution_count": null,
   "metadata": {
    "collapsed": true,
    "slideshow": {
     "slide_type": "fragment"
    }
   },
   "outputs": [],
   "source": [
    "im = imfits[0].data\n",
    "ex = exfits[0].data\n",
    "print(im.shape, im.dtype)\n",
    "print(ex.shape, ex.dtype)"
   ]
  },
  {
   "cell_type": "markdown",
   "metadata": {
    "slideshow": {
     "slide_type": "fragment"
    }
   },
   "source": [
    "Note: If we need `im` to be floating point for some reason, we would need to cast it, as in `im = imfits[0].data.astype('np.float32')`."
   ]
  },
  {
   "cell_type": "markdown",
   "metadata": {
    "slideshow": {
     "slide_type": "fragment"
    }
   },
   "source": [
    "Let's have a look the image and exposure map. It's often helpful to stretch images on a logarithmic scale because some sources are much brighter than others. The exposure map varies much less, so a linear scale works better in that case."
   ]
  },
  {
   "cell_type": "code",
   "execution_count": null,
   "metadata": {
    "collapsed": true,
    "slideshow": {
     "slide_type": "slide"
    }
   },
   "outputs": [],
   "source": [
    "plt.rcParams['figure.figsize'] = (10.0, 10.0)\n",
    "plt.imshow(logstretch(im), cmap='gray', origin='lower');"
   ]
  },
  {
   "cell_type": "code",
   "execution_count": null,
   "metadata": {
    "collapsed": true,
    "slideshow": {
     "slide_type": "slide"
    }
   },
   "outputs": [],
   "source": [
    "plt.imshow(ex, cmap='gray', origin='lower');"
   ]
  },
  {
   "cell_type": "markdown",
   "metadata": {
    "slideshow": {
     "slide_type": "slide"
    }
   },
   "source": [
    "Some details: FITS images (and the arrays we read from them) are indexed according to the ancient Fortran convention, with the first index corresponding to y (line) and the second index corresponding to x (sample). `pyplot` knows about this, although we *still* need to use `origin='lower'` to display the image the right way up."
   ]
  },
  {
   "cell_type": "markdown",
   "metadata": {
    "slideshow": {
     "slide_type": "slide"
    }
   },
   "source": [
    "In the image, we can see:\n",
    "1. Galaxy cluster Abell 1835 (the big blob in the center)\n",
    "2. Various other sources (smaller blobs). These are point-like sources - most likely AGN - that have been smeared out by the point spread function\n",
    "3. A roughly uniform background, consisting of unresolved AGN, diffuse X-rays from the Galactic halo and local bubble,  and events due to particles (solar wind protons and cosmic rays) interacting with the CCD"
   ]
  },
  {
   "cell_type": "markdown",
   "metadata": {
    "slideshow": {
     "slide_type": "slide"
    }
   },
   "source": [
    "Whether we're interested in the cluster or the other sources, it's good to have a catalog of what's where. Below, we define an array of circular (`x y radius`) regions roughly covering the neighborhoods of the non-cluster sources. We could use this, e.g., to mask them when studying the cluster (and will do in a couple of weeks).\n",
    "\n",
    "Positions are given in *image coordinates*, i.e. pixels counted from 1 (not from 0). There are far more sopisticated ways of handling this type of region information, but we're lazily re-using some old code in this case."
   ]
  },
  {
   "cell_type": "code",
   "execution_count": null,
   "metadata": {
    "collapsed": true
   },
   "outputs": [],
   "source": [
    "regions_string = \\\n",
    "u\"\"\"232 399 9.6640149\n",
    "188 418 6.6794089\n",
    "362 474 7.8936824\n",
    "336 417 5.8364482\n",
    "381 359 3.8626665\n",
    "391 418 5.5885783\n",
    "398 294 3.538914\n",
    "417 209 5.2474726\n",
    "271 216 5.3269609\n",
    "300 212 6.0974003\n",
    "286 162 3.7078355\n",
    "345 153 4.8141418\n",
    "168 361 5.6344116\n",
    "197 248 4.6760734\n",
    "277 234 5.0308471\n",
    "241 212 4.1267598\n",
    "251 379 4.4363759\n",
    "310 413 2.5081459\n",
    "460 287 5.9048854\n",
    "442 353 4.6259039\n",
    "288 268 4.4204645\n",
    "148 317 4.7704631\n",
    "151 286 7.9281045\n",
    "223 239 5.561259\n",
    "490 406 4.0450217\n",
    "481 318 4.7402437\n",
    "\"\"\"\n",
    "regions = np.loadtxt(StringIO(regions_string))\n",
    "regions"
   ]
  },
  {
   "cell_type": "markdown",
   "metadata": {
    "slideshow": {
     "slide_type": "slide"
    }
   },
   "source": [
    "It's often useful to define arrays of the x and y (image) coordinates of each pixel, so that calculations later (e.g. for distance from a given point) can be done using `numpy`'s array operations. In other words, the x array would just look like a horizontal gradient, and the y array would be a vertical gradient. We'll let you fill in the details."
   ]
  },
  {
   "cell_type": "code",
   "execution_count": null,
   "metadata": {
    "collapsed": true,
    "slideshow": {
     "slide_type": "fragment"
    }
   },
   "outputs": [],
   "source": [
    "try:\n",
    "    exec(open('Solution/xyramps.py').read())\n",
    "except IOError:\n",
    "    nx,ny = im.shape\n",
    "    x = REPLACE_WITH_YOUR_SOLUTION()\n",
    "    y = REPLACE_WITH_YOUR_SOLUTION()\n",
    "\n",
    "# plot the x and y \"images\" as a sanity check\n",
    "fig, ax = plt.subplots(1,2)\n",
    "ax[0].imshow(x, cmap='gray', origin='lower')\n",
    "ax[1].imshow(y, cmap='gray', origin='lower');"
   ]
  },
  {
   "cell_type": "markdown",
   "metadata": {
    "slideshow": {
     "slide_type": "slide"
    }
   },
   "source": [
    "### Generating a Mock X-ray Dataset\n",
    "\n",
    "Suppose we want to model the X-ray image data introduced above. A good first step is to try and make a simulated dataset that has the same statistical properties; we can then use that to verify that our inferences are accurate in the case where our model is correct.\n",
    "\n",
    "To keep things simple for this tutorial, we'll focus on a single AGN in the field - the one in `regions[n]` (your choice of `n`)."
   ]
  },
  {
   "cell_type": "markdown",
   "metadata": {
    "slideshow": {
     "slide_type": "slide"
    }
   },
   "source": [
    "Let's start by extracting a small \"postage stamp\" image centered on our target AGN, and a corresponding exposure map. Feel free to tweak the center or size of the postage stamp, or even choose a different source if you want to. For completeness, also extract postage stamp `x` and `y` arrays.\n",
    "\n",
    "**Don't forget** the differences between array indices and image coordinates (see above)\n",
    "* zero- vs one-based indexing\n",
    "* order of x and y axes"
   ]
  },
  {
   "cell_type": "code",
   "execution_count": null,
   "metadata": {
    "collapsed": true
   },
   "outputs": [],
   "source": [
    "try:\n",
    "    exec(open('Solution/get_stamps.py').read())\n",
    "except IOError:\n",
    "    small_im = REPLACE_WITH_YOUR_SOLUTION()\n",
    "    small_ex = REPLACE_WITH_YOUR_SOLUTION()\n",
    "    small_x = REPLACE_WITH_YOUR_SOLUTION()\n",
    "    small_y = REPLACE_WITH_YOUR_SOLUTION()"
   ]
  },
  {
   "cell_type": "code",
   "execution_count": null,
   "metadata": {
    "collapsed": true,
    "scrolled": false
   },
   "outputs": [],
   "source": [
    "# take a look\n",
    "plt.rcParams['figure.figsize'] = (10.0, 10.0)\n",
    "fig, ax = plt.subplots(1,2)\n",
    "ax[0].imshow(small_im, cmap='gray', origin='lower')\n",
    "ax[1].imshow(small_ex, cmap='gray', origin='lower');"
   ]
  },
  {
   "cell_type": "markdown",
   "metadata": {},
   "source": [
    "Compare this with the complete image above as a sanity check. If you don't see a clear source, something is wrong!"
   ]
  },
  {
   "cell_type": "markdown",
   "metadata": {},
   "source": [
    "### Modeling the data\n",
    "\n",
    "In your postage stamp, there's a real point-like source whose image has been smeared out by the telescope's point spread function (PSF), and a roughly uniform background. We'll assume that the PSF is a symmetric 2D Gaussian for simplicity (in real life, it isn't).\n",
    "\n",
    "The position and flux of the AGN, and the background surface brightness, are all unknown parameters of this model. The width of the PSF could also be one, potentially (the PSF varies quiet a bit over the focal plane, and I wouldn't want to guess what it is at the particular location of your source). Let's ignore the effective area of the telesope for this problem (essentially just a re-definition of what we mean by \"flux\").\n",
    "\n",
    "Draw a PGM that describes this model for the data set. Recall that we looked at a similar (but simpler) scenario when covering Bayes Theorem."
   ]
  },
  {
   "cell_type": "markdown",
   "metadata": {
    "slideshow": {
     "slide_type": "slide"
    }
   },
   "source": [
    "Each circular node in your PGM represents a PDF that we need to draw samples from when generating mock data. Write down the expression for your PGM's factorization of the joint PDF for all parameters and all data."
   ]
  },
  {
   "cell_type": "markdown",
   "metadata": {
    "slideshow": {
     "slide_type": "slide"
    }
   },
   "source": [
    "### Generate a mock dataset and visualize it\n",
    "\n",
    "You should now have all the ingredients to write a function that returns a mock X-ray postage stamp image (complete with realistic noise), given an exposure map and your assumed model, for a given set of model parameter values.\n",
    "\n",
    "Our presumptive solution is divided into two functions: one to draw parameter values, and one to generate mock data given those parameters. That way you have the option of specifying specific parameter values to see whether you can produce a realistic image manually.\n",
    "\n",
    "Note that, in general, we would need to convolve our model of the sky with the PSF in order to produce a mock observation. Since our model consists of only a uniform component and a point-like component, the convolution operation is analytic, so there's no need to code it explicitly."
   ]
  },
  {
   "cell_type": "code",
   "execution_count": null,
   "metadata": {
    "collapsed": true
   },
   "outputs": [],
   "source": [
    "try:\n",
    "    exec(open('Solution/mock_image.py').read())\n",
    "except IOError:\n",
    "    REMOVE_THIS_LINE()\n",
    "    def draw_parameters():\n",
    "        \"\"\"\n",
    "        Returns\n",
    "        -------\n",
    "        pars: dict\n",
    "            Dictionary of model parameter values\n",
    "        \"\"\"\n",
    "        pars = {}\n",
    "        \n",
    "        # Specify PDF for each parameter and draw a random sample from it:\n",
    "        pars['x_pos'] = REPLACE_WITH_YOUR_SOLUTION()\n",
    "        # ... and the rest\n",
    "        \n",
    "        return pars\n",
    "    \n",
    "    def generate_mock_image(exptime, xs, ys, pars=None):\n",
    "        \"\"\"\n",
    "        Parameters\n",
    "        ----------\n",
    "        exptime: array, float \n",
    "            Exposure map, giving exposure time (in seconds) for each pixel in the data image\n",
    "        xs: array, int \n",
    "            Array holding the x coordinate of each pixel in the image\n",
    "        ys: array, int \n",
    "            Array holding the y coordinate of each pixel in the image\n",
    "        pars: dict, float\n",
    "            Parameters describing the AGN brightness and PSF\n",
    "        \n",
    "        Returns\n",
    "        -------\n",
    "        N: array, int\n",
    "            Simulated data image, in counts per pixel\n",
    "        \"\"\"\n",
    "        # Set up a mock data image with the same shape as the exposure map, but with zero counts:\n",
    "        N = 0 * exptime.astype(int)\n",
    "    \n",
    "        # Draw parameters, if they are not passed in:\n",
    "        if pars is None:\n",
    "            pars = draw_parameters()\n",
    "    \n",
    "        # Use the parameters to realize an image of the model flux F, with the same shape as N.\n",
    "        F = REPLACE_WITH_YOUR_SOLUTION()\n",
    "    \n",
    "        # Convert to an image of predicted counts, again with the same shape:\n",
    "        mu = REPLACE_WITH_YOUR_SOLUTION()\n",
    "    \n",
    "        # Draw pixel counts from the sampling distribution:\n",
    "        N = REPLACE_WITH_YOUR_SOLUTION()\n",
    "        \n",
    "        return N"
   ]
  },
  {
   "cell_type": "markdown",
   "metadata": {
    "slideshow": {
     "slide_type": "slide"
    }
   },
   "source": [
    "Here's some (complete) code to display your mock data alongside the observation"
   ]
  },
  {
   "cell_type": "code",
   "execution_count": null,
   "metadata": {
    "collapsed": true
   },
   "outputs": [],
   "source": [
    "def compare_real_and_simulated(data, mock):\n",
    "    \"\"\"\n",
    "    Parameters\n",
    "    ----------\n",
    "    data: array, int \n",
    "        Observed data image\n",
    "    mock: array, int\n",
    "        Simulated data image\n",
    "        \n",
    "    Returns\n",
    "    -------\n",
    "    fig: matplotlib figure\n",
    "    \"\"\"\n",
    "    # Make sure images are shown on the same brightness scale:\n",
    "    vmin, vmax = 0, np.max(data)\n",
    "    \n",
    "    # Start figure and plot images:\n",
    "    plt.rcParams['figure.figsize'] = (10.0, 10.0)\n",
    "    fig, ax = plt.subplots(1,3)\n",
    "    ax[0].imshow(data, cmap='gray', origin='lower', vmin=vmin, vmax=vmax)\n",
    "    ax[0].set_title(\"Observed\")\n",
    "    ax[1].imshow(mock, cmap='gray', origin='lower', vmin=vmin, vmax=vmax)\n",
    "    ax[1].set_title(\"Simulated\")\n",
    "    ax[2].imshow(mock-data, cmap='gray', origin='lower', vmin=-vmax, vmax=vmax)\n",
    "    ax[2].set_title(\"Difference\")\n",
    "    \n",
    "    return fig"
   ]
  },
  {
   "cell_type": "markdown",
   "metadata": {},
   "source": [
    "### Play\n",
    "\n",
    "Get the code above working, then mess around with setting parameter values by hand until you can produce mock data that look vaguely like the real thing. (This is a pale imitation of the inference algorithms we will study soon.)\n",
    "\n",
    "Then see what mocks produced by generating parameter values from the distributions you provided look like."
   ]
  },
  {
   "cell_type": "code",
   "execution_count": null,
   "metadata": {
    "collapsed": true
   },
   "outputs": [],
   "source": [
    "# call generate_mock_image with specified parameter values\n",
    "try:\n",
    "    exec(open('Solution/try_some_parameters.py').read())\n",
    "except IOError:\n",
    "    my_pars = REPLACE_WITH_YOUR_SOLUTION()\n",
    "    \n",
    "mock = generate_mock_image(small_ex, small_x, small_y, my_pars)\n",
    "compare_real_and_simulated(small_im, mock);"
   ]
  },
  {
   "cell_type": "code",
   "execution_count": null,
   "metadata": {
    "collapsed": true
   },
   "outputs": [],
   "source": [
    "# call generate_mock_image without specified parameter values\n",
    "mock = generate_mock_image(small_ex, small_x, small_y)\n",
    "compare_real_and_simulated(small_im, mock);"
   ]
  }
 ],
 "metadata": {
  "anaconda-cloud": {},
  "celltoolbar": "Slideshow",
  "kernelspec": {
   "display_name": "Python 3",
   "language": "python",
   "name": "python3"
  },
  "language_info": {
   "codemirror_mode": {
    "name": "ipython",
    "version": 3
   },
   "file_extension": ".py",
   "mimetype": "text/x-python",
   "name": "python",
   "nbconvert_exporter": "python",
   "pygments_lexer": "ipython3",
   "version": "3.6.7"
  },
  "livereveal": {
   "scroll": true,
   "start_slideshow_at": "selected"
  }
 },
 "nbformat": 4,
 "nbformat_minor": 1
}
