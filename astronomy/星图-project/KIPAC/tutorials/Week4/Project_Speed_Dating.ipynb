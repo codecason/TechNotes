{
 "cells": [
  {
   "cell_type": "markdown",
   "metadata": {
    "slideshow": {
     "slide_type": "slide"
    }
   },
   "source": [
    "# Week 4 Tutorial\n",
    "\n",
    "## Project Speed Dating\n",
    "\n",
    "In this tutorial you will:\n",
    "\n",
    "* Get to know each other's initial thoughts on datasets, models, goals, and plans for their PHYS366 class projects.\n",
    "\n",
    "> Continuing the conversations after class should help you form small teams, of 1-3 people each, to start planning your projects.  "
   ]
  },
  {
   "cell_type": "markdown",
   "metadata": {
    "slideshow": {
     "slide_type": "slide"
    }
   },
   "source": [
    "## Setting Up\n",
    "\n",
    "We have 40 mins, in which you will each have 4-8 conversations, 5-10 mins each. \n",
    "\n",
    "* Number off 1-2-3 etc.\n",
    "* For your first conversation, talk to your neighbor.\n",
    "* When the alarm sounds, odd numbered people move one space to your left, clockwise around the room. Even numbered, stay where you are.\n",
    "* We should get all the way around the circle, once."
   ]
  },
  {
   "cell_type": "markdown",
   "metadata": {
    "slideshow": {
     "slide_type": "slide"
    }
   },
   "source": [
    "## Topics for Conversation\n",
    "\n",
    "While chatting about your ideas for your class projects, here are some questions you might ask each other:\n",
    "\n",
    "* **What kind of thing would you like to _learn_ during your class project?** \n",
    "\n",
    "* **Do you have a particular dataset, or type of data, in mind for your project?**\n",
    "\n",
    "* **Is there a particular statistical technique or model you'd like to explore in your project?** \n",
    "\n",
    "* **What would it take to make your project truly great?**\n",
    "\n",
    "If you have shared interests, you might make good project partners! "
   ]
  }
 ],
 "metadata": {
  "anaconda-cloud": {},
  "celltoolbar": "Slideshow",
  "kernelspec": {
   "display_name": "Python [conda env:miniconda2]",
   "language": "python",
   "name": "conda-env-miniconda2-py"
  },
  "language_info": {
   "codemirror_mode": {
    "name": "ipython",
    "version": 2
   },
   "file_extension": ".py",
   "mimetype": "text/x-python",
   "name": "python",
   "nbconvert_exporter": "python",
   "pygments_lexer": "ipython2",
   "version": "2.7.6"
  },
  "livereveal": {
   "scroll": true,
   "start_slideshow_at": "selected"
  }
 },
 "nbformat": 4,
 "nbformat_minor": 1
}
