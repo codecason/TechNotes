{
 "cells": [
  {
   "cell_type": "markdown",
   "metadata": {},
   "source": [
    "# REMINDER!!!\n",
    "\n",
    "Before doing **anything**,\n",
    "\n",
    "Once you've submitted your solution, don't forget to also fill out the very quick (and required!) [weekly feedback form](https://docs.google.com/forms/d/e/1FAIpQLSfH0JGjJd67ANAOcUiRT54nmYtQHViKyOQe-20cny3GDytV6Q/viewform?usp=sf_link)."
   ]
  },
  {
   "cell_type": "markdown",
   "metadata": {},
   "source": [
    "This week's assignment is relatively quick and easy, just to ensure that everyone is up to speed on probability and computing.\n",
    "\n",
    "# Week 1 Homework\n",
    "\n",
    "## Change of Variables\n",
    "\n",
    "Recall the formula for variable transformation as applied to probability density functions:\n",
    "\n",
    "$p(y) = p(x)\\left|\\frac{dx}{dy}\\right|$\n",
    "\n",
    "Consider the function $b=\\tan(\\theta)$, which is sometimes used to reparametrize the slope of a line ($b$) with the angle the line makes in a plot or $x$ vs $y$ ($\\theta$).\n",
    "\n",
    "1. If $p(\\theta)$ is uniform (proportional to a constant) on $-\\frac{\\pi}{2} < \\theta < \\frac{\\pi}{2}$, work out $p(b)$.\n",
    "\n",
    "2. Demonstrate that you're correct by generating a bunch of uniform random $\\theta$'s, transforming each one to its corresponding $b$, and comparing a histogram of $b$ with your answer to (1).\n",
    "\n",
    "3. Now try the reverse problem: find $p(\\theta)$ if $p(b)$ is taken to be uniform (say over $-100<b<100$).\n",
    "\n",
    "4. Compare your answer to (2) with a histogram of transformed samples from $p(b)$."
   ]
  },
  {
   "cell_type": "code",
   "execution_count": null,
   "metadata": {
    "collapsed": true
   },
   "outputs": [],
   "source": []
  }
 ],
 "metadata": {
  "anaconda-cloud": {},
  "kernelspec": {
   "display_name": "Python 3",
   "language": "python",
   "name": "python3"
  },
  "language_info": {
   "codemirror_mode": {
    "name": "ipython",
    "version": 3
   },
   "file_extension": ".py",
   "mimetype": "text/x-python",
   "name": "python",
   "nbconvert_exporter": "python",
   "pygments_lexer": "ipython3",
   "version": "3.6.7"
  }
 },
 "nbformat": 4,
 "nbformat_minor": 1
}
