{
 "cells": [
  {
   "cell_type": "markdown",
   "metadata": {
    "slideshow": {
     "slide_type": "slide"
    }
   },
   "source": [
    "# MCMC Diagnostics\n",
    "\n",
    "Goals:\n",
    "* Learn how to determine whether a Markov chain can reliably be used for inference"
   ]
  },
  {
   "cell_type": "markdown",
   "metadata": {
    "slideshow": {
     "slide_type": "slide"
    }
   },
   "source": [
    "## References\n",
    "\n",
    "* Gelman 11.4-11.5\n",
    "* [Kravtsov notebook on convergence](http://nbviewer.ipython.org/url/astro.uchicago.edu/%7Eandrey/classes/150404_mayacamas/mcmc_convergence.ipynb)"
   ]
  },
  {
   "cell_type": "markdown",
   "metadata": {
    "slideshow": {
     "slide_type": "slide"
    }
   },
   "source": [
    "## Diagnostics\n",
    "\n",
    "To be useful to us, a chain must\n",
    "1. have converged to the posterior distribution\n",
    "2. provide enough effectively independent samples to characterize it"
   ]
  },
  {
   "cell_type": "markdown",
   "metadata": {
    "slideshow": {
     "slide_type": "slide"
    }
   },
   "source": [
    "What would make us confident of convergence?\n",
    "* Is the chain stationary?\n",
    "* Do independent chains started from overdispersed positions find the same solution?"
   ]
  },
  {
   "cell_type": "markdown",
   "metadata": {
    "slideshow": {
     "slide_type": "slide"
    }
   },
   "source": [
    "How do we guess the number of independent samples?\n",
    "* Check how well the chain appears to exploring the distribution.\n",
    "* Compare the autocorrelation length scale with the chain length."
   ]
  },
  {
   "cell_type": "markdown",
   "metadata": {
    "slideshow": {
     "slide_type": "slide"
    }
   },
   "source": [
    "There are numerical estimates that can help with this, but **they are not a substitute for human visual inspection**."
   ]
  },
  {
   "cell_type": "markdown",
   "metadata": {
    "slideshow": {
     "slide_type": "slide"
    }
   },
   "source": [
    "### Common misuses of/misconceptions about convergence\n",
    "\n",
    "Convergence does **not** mean\n",
    "* that parameters are \"well constrained\" by the data\n",
    "* that the autocorrelation length is small\n",
    "* that there are not occasional excursions beyond a locus in parameter space"
   ]
  },
  {
   "cell_type": "markdown",
   "metadata": {
    "slideshow": {
     "slide_type": "slide"
    }
   },
   "source": [
    "### Convergence tests\n",
    "* Inspection! There is no substitute.\n",
    "* Gelman-Rubin statistic"
   ]
  },
  {
   "cell_type": "markdown",
   "metadata": {
    "slideshow": {
     "slide_type": "slide"
    }
   },
   "source": [
    "* How stationary does each sequence appear? \n",
    "* Are all chains sampling the same PDF?\n",
    "<table>\n",
    "    <tr>\n",
    "        <td><a href=\"graphics/montecarlo1.R\"><img src=\"graphics/mc1_sandbox_ab.png\" width=100%></a></td>\n",
    "    </tr>\n",
    "</table>"
   ]
  },
  {
   "cell_type": "markdown",
   "metadata": {
    "slideshow": {
     "slide_type": "slide"
    }
   },
   "source": [
    "<table>\n",
    "    <tr>\n",
    "        <td><a href=\"graphics/montecarlo1.R\"><img src=\"graphics/mc1_sandbox_a.png\" width=100%></a></td>\n",
    "    </tr>\n",
    "</table>"
   ]
  },
  {
   "cell_type": "markdown",
   "metadata": {
    "slideshow": {
     "slide_type": "slide"
    }
   },
   "source": [
    "<table>\n",
    "    <tr>\n",
    "        <td><a href=\"graphics/montecarlo1.R\"><img src=\"graphics/mc1_sandbox_b.png\" width=100%></a></td>\n",
    "    </tr>\n",
    "</table>\n",
    "\n",
    "Conservatively, we might remove the first $\\sim500$ steps based on this."
   ]
  },
  {
   "cell_type": "markdown",
   "metadata": {
    "slideshow": {
     "slide_type": "slide"
    }
   },
   "source": [
    "#### Gelman-Rubin convergence statistic\n",
    "\n",
    "This approach tests the similarlity of independent chains intended to sample the same PDF. To be meaningful, they should start from different locations and burn-in should be removed.\n",
    "\n",
    "For a given parameter, $\\theta$, the $R$ statistic compares the variance across chains with the variance within a chain. Intuitively, if the chains are random-walking in very different places, i.e. not sampling the same distribution, $R$ will be large.\n",
    "\n",
    "We'd like to see $R\\approx 1$ (e.g. $R<1.1$ is often used)."
   ]
  },
  {
   "cell_type": "markdown",
   "metadata": {
    "slideshow": {
     "slide_type": "slide"
    }
   },
   "source": [
    "In detail, given chains $J=1,\\ldots,m$, each of length $n$,\n",
    "\n",
    "* Let $B=\\frac{n}{m-1} \\sum_j \\left(\\bar{\\theta}_j - \\bar{\\theta}\\right)^2$, where $\\bar{\\theta_j}$ is the average $\\theta$ for chain $j$ and $\\bar{\\theta}$ is the global average. This is proportional to the variance of the individual-chain averages for $\\theta$.\n",
    "\n",
    "* Let $W=\\frac{1}{m}\\sum_j s_j^2$, where $s_j^2$ is the estimated variance of $\\theta$ within chain $j$. This is the average of the individual-chain variances for $\\theta$.\n",
    "\n",
    "* Let $V=\\frac{n-1}{n}W + \\frac{1}{n}B$. This is an estimate for the overall variance of $\\theta$."
   ]
  },
  {
   "cell_type": "markdown",
   "metadata": {
    "slideshow": {
     "slide_type": "slide"
    }
   },
   "source": [
    "Finally, $R=\\sqrt{\\frac{V}{W}}$.\n",
    "\n",
    "Note that this calculation can also be used to track convergence of combinations of parameters, or anything else derived from them."
   ]
  },
  {
   "cell_type": "markdown",
   "metadata": {
    "slideshow": {
     "slide_type": "slide"
    }
   },
   "source": [
    "### Correlation tests\n",
    "* Inspection! Again, no substitute.\n",
    "* Autocorrelation of parameters"
   ]
  },
  {
   "cell_type": "markdown",
   "metadata": {
    "slideshow": {
     "slide_type": "slide"
    }
   },
   "source": [
    "Do subsequent samples look particularly independent?\n",
    "<table>\n",
    "    <tr>\n",
    "        <td><a href=\"graphics/montecarlo1.R\"><img src=\"graphics/mc1_sandbox_a.png\" width=100%></a></td>\n",
    "    </tr>\n",
    "</table>"
   ]
  },
  {
   "cell_type": "markdown",
   "metadata": {
    "slideshow": {
     "slide_type": "slide"
    }
   },
   "source": [
    "The *autocorrelation* of a sequence (**after** removing burn-in), as a function of lag, $k$, is defined thusly:\n",
    "\n",
    "$\\rho_k = \\frac{\\sum_{i=1}^{n-k}\\left(\\theta_{i} - \\bar{\\theta}\\right)\\left(\\theta_{i+k} - \\bar{\\theta}\\right)}{\\sum_{i=1}^{n-k}\\left(\\theta_{i} - \\bar{\\theta}\\right)^2} = \\frac{\\mathrm{Cov}_i\\left(\\theta_i,\\theta_{i+k}\\right)}{\\mathrm{Var}(\\theta)}$\n",
    "\n",
    "The larger lag one needs to get a small autocorrelation, the less informative individual samples are.\n",
    "\n",
    "The `pandas` function `autocorrelation_plot()` may be useful for this."
   ]
  },
  {
   "cell_type": "markdown",
   "metadata": {
    "slideshow": {
     "slide_type": "slide"
    }
   },
   "source": [
    "<table>\n",
    "    <tr>\n",
    "        <td><a href=\"graphics/montecarlo1.R\"><img src=\"graphics/mc1_sandbox_acf-a.png\" width=100%></a></td>\n",
    "    </tr>\n",
    "</table>"
   ]
  },
  {
   "cell_type": "markdown",
   "metadata": {
    "slideshow": {
     "slide_type": "slide"
    }
   },
   "source": [
    "<table>\n",
    "    <tr>\n",
    "        <td><a href=\"graphics/montecarlo1.R\"><img src=\"graphics/mc1_sandbox_acf-b.png\" width=100%></a></td>\n",
    "    </tr>\n",
    "</table>"
   ]
  },
  {
   "cell_type": "markdown",
   "metadata": {
    "slideshow": {
     "slide_type": "slide"
    }
   },
   "source": [
    "Note that the positive/negative oscillations basically tell us when the lag is so large compared with the chain length\n",
    "that the autocorrelation is too noisy to be meaningful.\n",
    "\n",
    "We would be justified in thinning the chains by a factor of $\\sim150$, apparently!"
   ]
  },
  {
   "cell_type": "markdown",
   "metadata": {
    "slideshow": {
     "slide_type": "slide"
    }
   },
   "source": [
    "### Effective number of samples\n",
    "\n",
    "From $m$ chains of length $n$, we can estimate the effective number of independent samples as\n",
    "\n",
    "$n_{eff} = \\frac{mn}{1+2\\sum_0^\\infty \\hat{\\rho}_t}$, with\n",
    "\n",
    "$\\hat{\\rho}_t = 1 - \\frac{V_t}{2V}$, ($V$ as in the Gelman-Rubin calculation)\n",
    "\n",
    "$V_t = \\frac{1}{m(n-t)} \\sum_{j=0}^m \\sum_{i=t+1}^n (\\theta_{i,j} - \\theta_{i-t,j})^2$\n",
    "\n",
    "In practice, the sum in $n_{eff}$ is cut off when the estimates $\\hat{\\rho}_t$ become too noisy (see references)."
   ]
  },
  {
   "cell_type": "markdown",
   "metadata": {
    "slideshow": {
     "slide_type": "slide"
    }
   },
   "source": [
    "The example shown turns out to have $n_{eff} \\sim 600$, compared with the $\\sim 250$ samples we would have left if thinning by a factor of 150."
   ]
  },
  {
   "cell_type": "markdown",
   "metadata": {
    "slideshow": {
     "slide_type": "slide"
    }
   },
   "source": [
    "## Exercise: can we declare victory?\n",
    "\n",
    "In each of the following trace plots, different colors show independent chains. For each decide by inspection whether the following are plausible claims:\n",
    "1. The chains have converged to the posterior.\n",
    "2. The chains have a reasonable number of independent samples."
   ]
  },
  {
   "cell_type": "markdown",
   "metadata": {
    "slideshow": {
     "slide_type": "slide"
    }
   },
   "source": [
    "<table>\n",
    "    <tr>\n",
    "        <td><a href=\"graphics/montecarlo1.R\"><img src=\"graphics/mc1_convgame_1.png\" width=100%></a></td>\n",
    "        <td><a href=\"graphics/montecarlo1.R\"><img src=\"graphics/mc1_convgame_2.png\" width=100%></a></td>\n",
    "    </tr><tr>\n",
    "        <td><a href=\"graphics/montecarlo1.R\"><img src=\"graphics/mc1_convgame_3.png\" width=100%></a></td>\n",
    "        <td><a href=\"graphics/montecarlo1.R\"><img src=\"graphics/mc1_convgame_4.png\" width=100%></a></td>\n",
    "    </tr>\n",
    "</table>"
   ]
  },
  {
   "cell_type": "markdown",
   "metadata": {
    "slideshow": {
     "slide_type": "slide"
    }
   },
   "source": [
    "## Take-away\n",
    "There are a handful of useful metrics for assessing convergence of chains and independence of samples. None is foolproof, and visual inspection is a critical check.\n",
    "\n",
    "Extra reading: [this short discussion](https://www.jstor.org/stable/2685466) provides some interesting context regarding how experts in the field (and the inventors of said metrics) approach the practical side of MCMC."
   ]
  },
  {
   "cell_type": "markdown",
   "metadata": {
    "slideshow": {
     "slide_type": "slide"
    }
   },
   "source": [
    "## Bonus numerical making-your-life-easier exercise: convergence\n",
    "\n",
    "Write some code to perform the Gelman-Rubin convergence test. Try it out on\n",
    "\n",
    "1. multiple chains from the sandbox notebook. Fiddle with the sampler to get chains that do/do not display nice convergence after e.g. 5000 steps.\n",
    "\n",
    "2. multiple \"chains\" produced from independent sampling, e.g. from the inverse-transform or rejection examples above or one of the examples in previous chunks.\n",
    "\n",
    "You'll be expected to test convergence from now on, so having a function to do so will be helpful."
   ]
  },
  {
   "cell_type": "code",
   "execution_count": null,
   "metadata": {
    "collapsed": true
   },
   "outputs": [],
   "source": []
  },
  {
   "cell_type": "markdown",
   "metadata": {
    "slideshow": {
     "slide_type": "slide"
    }
   },
   "source": [
    "## Bonus numerical making-your-life-easier exercise: effective samples\n",
    "\n",
    "Write code to compute the effective number of samples, as described above. Cut off the sum $n_{eff}$ at the point where 2 successive values $\\hat{\\rho}_t$ and $\\hat{\\rho}_{t+1}$ are negative. Try it out on the same two test cases."
   ]
  },
  {
   "cell_type": "code",
   "execution_count": null,
   "metadata": {
    "collapsed": true
   },
   "outputs": [],
   "source": []
  },
  {
   "cell_type": "markdown",
   "metadata": {
    "slideshow": {
     "slide_type": "slide"
    }
   },
   "source": [
    "## Megabonus numerical exercise\n",
    "\n",
    "Modify your code from the exercises to compute $R$ and $n_{eff}$ for the eigenvectors of the covariance of the posterior, instead of for individual parameters themselves. This can be informative when there are strong parameter degeneracies, as in the example above. The eigenvectors can be estimated efficiently from a chain using singular value decomposition."
   ]
  },
  {
   "cell_type": "code",
   "execution_count": null,
   "metadata": {
    "collapsed": true
   },
   "outputs": [],
   "source": []
  }
 ],
 "metadata": {
  "anaconda-cloud": {},
  "celltoolbar": "Slideshow",
  "kernelspec": {
   "display_name": "Python [default]",
   "language": "python",
   "name": "python2"
  },
  "language_info": {
   "codemirror_mode": {
    "name": "ipython",
    "version": 2
   },
   "file_extension": ".py",
   "mimetype": "text/x-python",
   "name": "python",
   "nbconvert_exporter": "python",
   "pygments_lexer": "ipython2",
   "version": "2.7.6"
  },
  "livereveal": {
   "scroll": true,
   "start_slideshow_at": "selected"
  }
 },
 "nbformat": 4,
 "nbformat_minor": 1
}
